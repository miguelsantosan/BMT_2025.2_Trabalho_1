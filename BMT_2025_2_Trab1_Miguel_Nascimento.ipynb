{
  "cells": [
    {
      "cell_type": "markdown",
      "metadata": {
        "id": "4kYKvCUv4Xa_"
      },
      "source": [
        "**Nome:** Miguel Santos de Araujo do Nascimento"
      ]
    },
    {
      "cell_type": "markdown",
      "metadata": {
        "id": "T_25VhSs7Lcj"
      },
      "source": [
        "# Imports"
      ]
    },
    {
      "cell_type": "code",
      "execution_count": null,
      "metadata": {
        "colab": {
          "base_uri": "https://localhost:8080/"
        },
        "id": "6j0Lw4RnrKDX",
        "outputId": "701d3837-828a-4c17-8424-ebac4c6394a2"
      },
      "outputs": [],
      "source": [
        "# Remover acentuação de palavras\n",
        "!pip install unidecode"
      ]
    },
    {
      "cell_type": "code",
      "execution_count": null,
      "metadata": {
        "colab": {
          "base_uri": "https://localhost:8080/"
        },
        "id": "97kLQLqg4Qn8",
        "outputId": "767570d4-e7e7-400a-b320-9b378b7c2767"
      },
      "outputs": [],
      "source": [
        "import nltk\n",
        "from nltk.tokenize import word_tokenize\n",
        "from nltk.corpus import stopwords\n",
        "from nltk import pos_tag\n",
        "\n",
        "nltk.download('stopwords')\n",
        "nltk.download('punkt')\n",
        "nltk.download('punkt_tab')\n",
        "\n",
        "import logging\n",
        "\n",
        "import xml.etree.ElementTree as ET\n",
        "\n",
        "from enum import Enum\n",
        "\n",
        "from unidecode import unidecode # Remover acentuação de palavras"
      ]
    },
    {
      "cell_type": "markdown",
      "metadata": {
        "id": "67m7IuknDEM-"
      },
      "source": [
        "# Baixando arquivos de dados"
      ]
    },
    {
      "cell_type": "code",
      "execution_count": null,
      "metadata": {
        "colab": {
          "base_uri": "https://localhost:8080/"
        },
        "id": "tjWH5gxmDTK9",
        "outputId": "3f050666-b082-43a0-dfdc-3c74c88a88b8"
      },
      "outputs": [],
      "source": [
        "!wget https://github.com/miguelsantosan/BMT_2025.2_Trabalho_1/raw/main/CysticFibrosis2.zip"
      ]
    },
    {
      "cell_type": "code",
      "execution_count": null,
      "metadata": {
        "colab": {
          "base_uri": "https://localhost:8080/"
        },
        "id": "5xuflP2JDiWY",
        "outputId": "43e899a3-a536-464f-8499-425ff398bdde"
      },
      "outputs": [],
      "source": [
        "!unzip -o CysticFibrosis2.zip -d CysticFibrosis2"
      ]
    },
    {
      "cell_type": "markdown",
      "metadata": {
        "id": "oU6VepsWM1Dr"
      },
      "source": [
        "# Configurações"
      ]
    },
    {
      "cell_type": "code",
      "execution_count": null,
      "metadata": {
        "id": "O8iCl2hlM2_6"
      },
      "outputs": [],
      "source": [
        "# @title Logging e pré processamento\n",
        "\n",
        "stop_en = stopwords.words('english')\n",
        "\n",
        "logging.basicConfig(level=logging.INFO, format='%(asctime)s - %(levelname)s - %(message)s')\n",
        "logger = logging.getLogger(__name__)\n",
        "logger.setLevel(logging.INFO)\n",
        "\n",
        "file_handler = logging.FileHandler('Trab1.log')\n",
        "file_handler.setLevel(logging.INFO)\n",
        "\n",
        "formatter = logging.Formatter('%(asctime)s - %(levelname)s - %(message)s')\n",
        "formatter.default_msec_format = '%s.%03d' # Mostrar milissegundos com ponto invés de vírgula\n",
        "file_handler.setFormatter(formatter)\n",
        "logger.addHandler(file_handler)"
      ]
    },
    {
      "cell_type": "code",
      "execution_count": null,
      "metadata": {
        "id": "m0H01JTJAtdd"
      },
      "outputs": [],
      "source": [
        "# @title Enum LEIA e ESCREVA\n",
        "\n",
        "\"\"\"\n",
        "Pra poder passar pras funções\n",
        "Assim não fico passando magic numbers\n",
        "\"\"\"\n",
        "# LEIA = 1\n",
        "# ESCREVA = 2\n",
        "\n",
        "class cfgEnum(Enum):\n",
        "  LEIA = 1\n",
        "  ESCREVA = 2"
      ]
    },
    {
      "cell_type": "code",
      "execution_count": null,
      "metadata": {
        "id": "-7TNBpMvZtrt"
      },
      "outputs": [],
      "source": [
        "# @title Arquivos .dtd\n",
        "\n",
        "PROCESSADOR_CONSULTAS_FORMATO = r'CysticFibrosis2/data/cfc2-query.dtd'\n",
        "GLI_FORMATO = r'CysticFibrosis2/data/cfc2.dtd'"
      ]
    },
    {
      "cell_type": "markdown",
      "metadata": {
        "id": "6wdE9YDXWr2m"
      },
      "source": [
        "## Criando arquivos .CFG"
      ]
    },
    {
      "cell_type": "code",
      "execution_count": null,
      "metadata": {
        "colab": {
          "base_uri": "https://localhost:8080/"
        },
        "id": "nplePtg1WkRw",
        "outputId": "5972281d-e30d-4c79-9265-c2c7ca28f80d"
      },
      "outputs": [],
      "source": [
        "# @title PC.CFG\n",
        "\n",
        "CONFIG_PC_CONTENT = \"\"\"LEIA=CysticFibrosis2/data/cfquery.xml\n",
        "CONSULTAS=consultas.csv\n",
        "ESPERADOS=esperados.csv\n",
        "\"\"\"\n",
        "\n",
        "CONFIG_PC_NAME = \"PC.CFG\"\n",
        "\n",
        "with open(CONFIG_PC_NAME, \"w\") as f:\n",
        "    f.write(CONFIG_PC_CONTENT)\n",
        "\n",
        "print(f\"'{CONFIG_PC_NAME}' created successfully.\")"
      ]
    },
    {
      "cell_type": "code",
      "execution_count": null,
      "metadata": {
        "colab": {
          "base_uri": "https://localhost:8080/"
        },
        "id": "cqr17cBRYJOp",
        "outputId": "2202fed6-4c17-48ad-9860-e7467767ae1d"
      },
      "outputs": [],
      "source": [
        "# @title GLI.CFG\n",
        "\n",
        "CONFIG_GLI_CONTENT = \"\"\"LEIA=CysticFibrosis2/data/cf74.xml\n",
        "LEIA=CysticFibrosis2/data/cf75.xml\n",
        "LEIA=CysticFibrosis2/data/cf76.xml\n",
        "LEIA=CysticFibrosis2/data/cf77.xml\n",
        "LEIA=CysticFibrosis2/data/cf78.xml\n",
        "LEIA=CysticFibrosis2/data/cf79.xml\n",
        "ESCREVA=lista_invertida.csv\n",
        "\"\"\"\n",
        "\n",
        "CONFIG_GLI_NAME = \"GLI.CFG\"\n",
        "\n",
        "with open(CONFIG_GLI_NAME, \"w\") as f:\n",
        "    f.write(CONFIG_GLI_CONTENT)\n",
        "\n",
        "print(f\"'{CONFIG_GLI_NAME}' created successfully.\")"
      ]
    },
    {
      "cell_type": "code",
      "execution_count": null,
      "metadata": {
        "colab": {
          "base_uri": "https://localhost:8080/"
        },
        "id": "ZOH71ap-Xvk6",
        "outputId": "ad4d8066-f2f2-421a-89dc-0060301a9e22"
      },
      "outputs": [],
      "source": [
        "# @title INDEX.CFG\n",
        "\n",
        "CONFIG_INDEX_CONTENT = \"\"\"LEIA=lista_invertida.csv\n",
        "ESCREVA=modelo.csv\n",
        "\"\"\"\n",
        "\n",
        "CONFIG_INDEX_NAME = \"INDEX.CFG\"\n",
        "\n",
        "with open(CONFIG_INDEX_NAME, \"w\") as f:\n",
        "    f.write(CONFIG_INDEX_CONTENT)\n",
        "\n",
        "print(f\"'{CONFIG_INDEX_NAME}' created successfully.\")"
      ]
    },
    {
      "cell_type": "code",
      "execution_count": null,
      "metadata": {
        "colab": {
          "base_uri": "https://localhost:8080/"
        },
        "id": "aXDthTZlXvEy",
        "outputId": "1480efc2-6855-4db1-a8a0-638defd1cb53"
      },
      "outputs": [],
      "source": [
        "# @title BUSCA.CFG\n",
        "\n",
        "CONFIG_BUSCA_CONTENT = \"\"\"MODELO=modelo.csv\n",
        "CONSULTAS=consultas.csv\n",
        "RESULTADOS=resultado.csv\n",
        "\"\"\"\n",
        "\n",
        "CONFIG_BUSCA_NAME = \"BUSCA.CFG\"\n",
        "\n",
        "with open(CONFIG_BUSCA_NAME, \"w\") as f:\n",
        "    f.write(CONFIG_BUSCA_CONTENT)\n",
        "\n",
        "print(f\"'{CONFIG_BUSCA_NAME}' created successfully.\")"
      ]
    },
    {
      "cell_type": "code",
      "execution_count": null,
      "metadata": {
        "id": "rrV9O4FM8SZE"
      },
      "outputs": [],
      "source": [
        "# @title (DELETAR) Teste\n",
        "# logger.debug(\"This is a debug message.\")\n",
        "# logger.info(\"This is an info message.\")\n",
        "# logger.warning(\"This is a warning message.\")\n",
        "# logger.error(\"This is an error message.\")\n",
        "# logger.critical(\"This is a critical message.\")"
      ]
    },
    {
      "cell_type": "markdown",
      "metadata": {
        "id": "y3nzcVZIbmmU"
      },
      "source": [
        "# Funções"
      ]
    },
    {
      "cell_type": "code",
      "execution_count": null,
      "metadata": {
        "id": "lM3VPuc8bnds"
      },
      "outputs": [],
      "source": [
        "# @title Pegando arquivos de uma pasta\n",
        "\n",
        "import glob\n",
        "import os\n",
        "\n",
        "def RetornaNomeArquivoDoPath(file_path):\n",
        "  \"\"\"\n",
        "  Retorna apenas o nome do arquivo a partir do path\n",
        "  \"\"\"\n",
        "  # Faz split no path, vira uma lista, pega o último elemento\n",
        "  file_name = file_path.split('/')[-1]\n",
        "  return file_name\n",
        "\n",
        "def RetornaArquivosNoDiretorio_old(dir_path, show_files=False):\n",
        "  \"\"\"\n",
        "  Essa função precisa do path completo da pasta,\n",
        "  então vou usar a outra que percorre as subpastas\n",
        "  \"\"\"\n",
        "  file_paths = glob.glob(dir_path + '/*')\n",
        "\n",
        "  if show_files:\n",
        "    print(f'Peguei os arquivos da pasta {dir_path}')\n",
        "    for file_path in file_paths:\n",
        "      print(file_path)\n",
        "\n",
        "  return file_paths\n",
        "\n",
        "def RetornaArquivosNoDiretorio(dir_path, file_type=None, ignore_list=None, show_files=False):\n",
        "  \"\"\"\n",
        "  Retorna os arquivos de dir_path, percorrendo as subpastas\n",
        "  file_type == None --> todos os arquivos\n",
        "  file_type != None --> apenas arquivos .file_type\n",
        "  ignore_list != None --> ignoro os arquivos na lista\n",
        "  \"\"\"\n",
        "  file_paths = []\n",
        "  #ignore_list = ['cfquery.xml']\n",
        "\n",
        "  if file_type == None:\n",
        "    logger.info(f'Buscando todos os arquivos da pasta {dir_path} para armazenar em memória')\n",
        "  else:\n",
        "    logger.info(f'Buscando todos os arquivos .{file_type} da pasta {dir_path} para armazenar em memória')\n",
        "\n",
        "  for root, _, files in os.walk(dir_path):\n",
        "      for file in files:\n",
        "        # Se tiver arquivos para ignorar, verifica se o arquivo atual está em ignore_list\n",
        "        if ignore_list != None:\n",
        "          file_path = os.path.join(root, file)\n",
        "          file_name = RetornaNomeArquivoDoPath(file_path)\n",
        "          if file_name in ignore_list:\n",
        "            continue\n",
        "\n",
        "        if file_type == None: # Todos os arquivos\n",
        "          file_paths.append(os.path.join(root, file))\n",
        "        else: # Apenas arquivos de um tipo específico\n",
        "          if (file_type != None) and (file.endswith(f'.{file_type}')):\n",
        "              file_paths.append(os.path.join(root, file))\n",
        "\n",
        "  if file_type == None:\n",
        "    logger.info(f'Todos os arquivos da pasta {dir_path} armazenados em memória com sucesso')\n",
        "  else:\n",
        "    logger.info(f'Arquivos .{file_type} da pasta {dir_path} armazenados em memória com sucesso')\n",
        "\n",
        "  if show_files:\n",
        "    #print(f'Peguei todos os arquivos .{file_type} da pasta {dir_path}')\n",
        "    for file_path in file_paths:\n",
        "      print(file_path)\n",
        "\n",
        "  return file_paths"
      ]
    },
    {
      "cell_type": "code",
      "execution_count": null,
      "metadata": {
        "id": "gD3i1n0DOIll"
      },
      "outputs": [],
      "source": [
        "# @title Pré-processamento do texto recuperado\n",
        "from unidecode import unidecode\n",
        "\n",
        "def TrocaNewlinePorEspaco(texto):\n",
        "  \"\"\"\n",
        "  Substitui caracteres de nova linha (\\n) por espaços em uma string.\n",
        "  \"\"\"\n",
        "  if isinstance(texto, str):\n",
        "    return texto.replace('\\n', ' ')\n",
        "  else:\n",
        "    logger.error('Não foi passada uma string para a função TrocaNewlinePorEspaco()')\n",
        "    return texto\n",
        "\n",
        "def RemoveAspas(texto):\n",
        "  \"\"\"\n",
        "  Remove aspas (simples e duplas) de uma string.\n",
        "  \"\"\"\n",
        "  if isinstance(texto, str):\n",
        "    texto = texto.replace(\"'\", \"\")\n",
        "    texto = texto.replace(\"\\\"\", \"\")\n",
        "    return texto\n",
        "  else:\n",
        "    logger.error('Não foi passada uma string para a função RemoveAspas()')\n",
        "    return texto\n",
        "\n",
        "def RemovePontuacao(texto):\n",
        "  \"\"\"\n",
        "  Remove aspas (simples e duplas) de uma string.\n",
        "  \"\"\"\n",
        "  # if isinstance(texto, str):\n",
        "  #   texto = texto.replace(\".\", \"\")\n",
        "  #   texto = texto.replace(\",\", \"\")\n",
        "  #   texto = texto.replace(\";\", \"\")\n",
        "  #   texto = texto.replace(\"(\", \"\")\n",
        "  #   texto = texto.replace(\")\", \"\")\n",
        "  #   texto = texto.replace(\"[\", \"\")\n",
        "  #   texto = texto.replace(\"]\", \"\")\n",
        "  #   texto = texto.replace(\"{\", \"\")\n",
        "  #   texto = texto.replace(\"}\", \"\")\n",
        "  #   return texto\n",
        "  if isinstance(texto, str):\n",
        "    texto = texto.translate(str.maketrans('', '', '.,;!?()[]{}<>=´`~^'))\n",
        "    return texto\n",
        "  else:\n",
        "    logger.error('Não foi passada uma string para a função RemoveAspas()')\n",
        "    return texto\n",
        "\n",
        "def RemoveAcentuacao(texto):\n",
        "  if isinstance(texto, str):\n",
        "    return unidecode(texto)\n",
        "  else:\n",
        "    logger.error('Não foi passada uma string para a função RemoveAcentuacao()')\n",
        "    return texto\n",
        "\n",
        "def RemoveStopWords(texto):\n",
        "  \"\"\"\n",
        "  Remove as stop words de uma string.\n",
        "  \"\"\"\n",
        "  if isinstance(texto, str):\n",
        "    tokens = word_tokenize(texto)\n",
        "    tokens_filtrados = [p for p in tokens if p.lower() not in stop_en]\n",
        "    return ' '.join(tokens_filtrados)\n",
        "  else:\n",
        "    logger.error('Não foi passada uma string para a função RemoveStopWords()')\n",
        "    return texto\n",
        "\n",
        "def PreProcessamentoDeTextoRecuperado(texto, remove_stopwords=False):\n",
        "  texto = TrocaNewlinePorEspaco(texto)\n",
        "  texto = RemoveAspas(texto)\n",
        "  texto = RemovePontuacao(texto)\n",
        "  texto = RemoveAcentuacao(texto)\n",
        "  if remove_stopwords:\n",
        "    texto = RemoveStopWords(texto)\n",
        "  return texto"
      ]
    },
    {
      "cell_type": "code",
      "execution_count": null,
      "metadata": {
        "colab": {
          "base_uri": "https://localhost:8080/"
        },
        "id": "t2v5_noLRW-x",
        "outputId": "19f06ad8-0ae4-45b4-c2aa-a3143aadd929"
      },
      "outputs": [],
      "source": [
        "# @title (DELETAR) Testando pré-processamento de texto\n",
        "t = \"STÈÉL ~ÎRÔN METÃL 'asa\\/\\/\\/d\\n\\n[{(()}}{]be... bebe ;;....,,,.;be be be is i am 'asda'fgrttaaa\\\"\\\"\"\n",
        "print(t)\n",
        "#t=t.replace(\"'\", \"\")\n",
        "#t=t.replace(\"\\\"\", \"\")\n",
        "t = PreProcessamentoDeTextoRecuperado(t)\n",
        "print(t)\n",
        "print(type(t))\n",
        "print(len(t))"
      ]
    },
    {
      "cell_type": "code",
      "execution_count": null,
      "metadata": {
        "colab": {
          "base_uri": "https://localhost:8080/"
        },
        "id": "WCqZBKl4P8h8",
        "outputId": "760dc227-fa63-4560-fe23-d81f2f2c65ca"
      },
      "outputs": [],
      "source": [
        "# @title (DELETAR) Testando correção de texto\n",
        "\n",
        "test_text1 = \"\"\"The significance of Pseudomonas aeruginosa infection in the\n",
        "respiratory tract of 9 cystic fibrosis patients have been studied\n",
        "by means of immunoelectrophoretical analysis of patients' sera for\n",
        "the number of precipitins against Pseudomonas aeruginosa and the\n",
        "concentrations of 16 serum proteins.  In addition, the clinical and\n",
        "radiographical status of the lungs have been evaluated using 2\n",
        "scoring systems.  Precipitins against Pseudomonas aeruginosa were\n",
        "demonstrated in all sera, the maximum number in one serum was 22.\n",
        "The concentrations of 12 of the serum proteins were significantly\n",
        "changed compared with matched control persons.  Notably IgG and IgA\n",
        "were elevated and the \"acute phase proteins\" were changed, the\n",
        "latter suggesting active tissue damage.  The concentrations of 3 of\n",
        "the acute phase proteins, notably haptoglobin, were correlated to\n",
        "the number of precipitins suggesting that the respiratory tract\n",
        "infection in patients with many precipitins is accompanied by more\n",
        "tissue damage than the infection in patients with few precipitins.\n",
        "The results indicate no protective value of the many precipitins on\n",
        "the tissue of the respiratory tract.\"\"\"\n",
        "\n",
        "test_text2 = \"\"\"Dr. Economou-Mavrou and his colleagues appear to have misunderstood\n",
        "my previous note concerning skin wrinkling in cystic fibrosis.  The\n",
        "range of normality varies in different climatic conditions, and in\n",
        "Aukland wrinkling does not appear in cool tap-water (18-22 C) under\n",
        "3 minutes in normals.  Skin wrinkling on immersion appears to be\n",
        "age-related, but is difficult to detect reliably in the newborn.\n",
        "Prior washing of the hands, or immersion in sea-water (even the day\n",
        "before), accelerates skin wrinkling, as does warm weather.  I would\n",
        "suggest that \"normality\" needs redefining in Athens if 6 of 17\n",
        "\"normals\" were \"abnormal\".\"\"\"\n",
        "\n",
        "test_text1 = PreProcessamentoDeTextoRecuperado(test_text1)\n",
        "test_text2 = PreProcessamentoDeTextoRecuperado(test_text2)\n",
        "\n",
        "test_tokens1 = word_tokenize(test_text1)\n",
        "test_tokens2 = word_tokenize(test_text2)\n",
        "\n",
        "print(test_tokens1)\n",
        "print(test_tokens2)"
      ]
    },
    {
      "cell_type": "markdown",
      "metadata": {
        "id": "AnvLrsJnbIUc"
      },
      "source": [
        "# Armazenando arquivos"
      ]
    },
    {
      "cell_type": "code",
      "execution_count": null,
      "metadata": {
        "id": "fDyD2C5O09Mb"
      },
      "outputs": [],
      "source": [
        "# @title Arquivos que não serão adicionados à base\n",
        "\n",
        "ignore_list = ['cfquery.xml']"
      ]
    },
    {
      "cell_type": "code",
      "execution_count": null,
      "metadata": {
        "colab": {
          "base_uri": "https://localhost:8080/"
        },
        "id": "InA_BZfqC_5-",
        "outputId": "570ddbaa-f3c1-4f93-a289-7beeccde4ae0"
      },
      "outputs": [],
      "source": [
        "dir_path = 'CysticFibrosis2/'\n",
        "file_paths_CysticFibrosis2 = RetornaArquivosNoDiretorio(dir_path,  'xml', ignore_list, show_files=True)"
      ]
    },
    {
      "cell_type": "markdown",
      "metadata": {
        "id": "dTFwaIFA-SNF"
      },
      "source": [
        "# Processador de consultas"
      ]
    },
    {
      "cell_type": "code",
      "execution_count": null,
      "metadata": {
        "id": "FDHOirBnQSTt"
      },
      "outputs": [],
      "source": [
        "#%%writefile processador_de_consultas.py"
      ]
    },
    {
      "cell_type": "markdown",
      "metadata": {
        "id": "gejJhyne-Wc6"
      },
      "source": [
        "# Gerador lista invertida"
      ]
    },
    {
      "cell_type": "code",
      "execution_count": null,
      "metadata": {
        "colab": {
          "base_uri": "https://localhost:8080/",
          "height": 35
        },
        "id": "vc3TWu84sbGl",
        "outputId": "4f84d405-30bc-488f-e840-06fc5b606524"
      },
      "outputs": [],
      "source": [
        "t = \"Cléber François Úl`[´]`làáíìúùòóèé-asbb\"\n",
        "t = RemovePontuacao(t)\n",
        "t = unidecode(t)\n",
        "t"
      ]
    },
    {
      "cell_type": "code",
      "execution_count": null,
      "metadata": {
        "id": "ffQtgmtHQlOJ"
      },
      "outputs": [],
      "source": [
        "# @title Funções para gerar a lista\n",
        "\n",
        "#%%writefile gerador_lista_invertida.py\n",
        "import logging\n",
        "import xml.etree.ElementTree as ET\n",
        "\n",
        "def GeraListaInvertida(base):\n",
        "  \"\"\"\n",
        "  base é uma lista de tuplas, onde o primeiro elemento é o ID do documento e o segundo é o texto do documento\n",
        "  Percorre todos os textos e gera a lista invertida\n",
        "  Funciona com lista de texto, assim posso ter doc: [doc, [doc_texto1, doc_texto2, ...]] e contam para o mesmo documento\n",
        "  Retorna a lista invertida\n",
        "  \"\"\"\n",
        "  lista_invertida = {}\n",
        "\n",
        "  logger.info('Gerador Lista Invertida - Gerando lista invertida')\n",
        "  for doc_tupla in base:\n",
        "    doc_id = doc_tupla[0]\n",
        "    doc_info = doc_tupla[1]\n",
        "\n",
        "    # Se for string única, transforma em lista de 1 elemento\n",
        "    if isinstance(doc_info, str):\n",
        "        doc_info = [doc_info]\n",
        "\n",
        "    for info in doc_info:\n",
        "      fraselc = str.upper(info).split()\n",
        "      for palavra in fraselc:\n",
        "        docs = lista_invertida.get(palavra, [])\n",
        "        docs.append(doc_id) # Append the document ID\n",
        "        lista_invertida[palavra]=docs\n",
        "\n",
        "  logger.info('Gerador Lista Invertida - Lista invertida gerada com sucesso')\n",
        "\n",
        "  return lista_invertida\n",
        "\n",
        "def LeArquivo_GLI_CFG(flag, config_file='GLI.CFG'):\n",
        "  filename = None\n",
        "  file_paths = [] # Initialize file_paths list\n",
        "  try:\n",
        "    with open(config_file, 'r') as f:\n",
        "      match flag:\n",
        "        case cfgEnum.LEIA:\n",
        "          for line in f:\n",
        "            line = line.strip()\n",
        "            if line.startswith('LEIA='):\n",
        "              path = line.split('=', 1)[1]\n",
        "              file_paths.append(path)\n",
        "          return file_paths\n",
        "        case cfgEnum.ESCREVA:\n",
        "          for line in f:\n",
        "            line = line.strip()\n",
        "            if line.startswith('ESCREVA='):\n",
        "              filename = line.split('=', 1)[1]\n",
        "              return filename\n",
        "        case _:\n",
        "          logger.error(f'Gerador Lista Invertida - Flag inválida: \\'{flag}\\'. Use flag \\'cfgEnum.LEIA\\' ou \\'cfgEnum.ESCREVA\\'')\n",
        "          return\n",
        "  except FileNotFoundError:\n",
        "    logger.error(f'Gerador Lista Invertida - Arquivo {config_file} não encontrado.')\n",
        "    return\n",
        "  except Exception as e:\n",
        "    logger.error(f\"Gerador Lista Invertida - Erro ao ler arquivo de configuração '{config_file}': {e}\")\n",
        "    return\n",
        "\n",
        "def SalvaListainvertidaEmCsv(lista_invertida_dict, config_file='GLI.CFG', separator=';'):\n",
        "  \"\"\"\n",
        "  Lê GLI.CFG e pega o nome do csv para salvar a lista invertida\n",
        "  \"\"\"\n",
        "\n",
        "  filename = LeArquivo_GLI_CFG(cfgEnum.ESCREVA)\n",
        "\n",
        "  try:\n",
        "    with open(filename, 'w', newline='') as csvfile:\n",
        "      for key, values in lista_invertida_dict.items():\n",
        "        # Pega a lista dos documentos\n",
        "        values_str = '[' + ','.join(map(str, values)) + ']'\n",
        "        csvfile.write(f\"{key}{separator}{values_str}\\n\")\n",
        "    logger.info(f'Gerador Lista Invertida - Lista invertida salva em {filename} com sucesso')\n",
        "  except IOError as e:\n",
        "    logger.error(f'Gerador Lista Invertida - Erro ao salvar a lista invertida em {filename}: {e}')\n",
        "\n",
        "# Função para debug\n",
        "def PrintListaInvertida(lista_invertida):\n",
        "  chaves = [i for i in lista_invertida.keys() ]\n",
        "  chaves.sort()\n",
        "\n",
        "  for i in chaves:\n",
        "    print(\" \",i,\" & \",str(lista_invertida[i]), \" \\\\\\\\\")\n",
        "\n",
        "def PegaDocumentosDosArquivosXML(file_paths):\n",
        "    \"\"\"\n",
        "    Recebe uma lista de caminhos para arquivos XML ou um arquivo único\n",
        "    Pega todos os elementos RECORD e pega o RECORDNUM de cada um deles\n",
        "    Se tiver ABSTRACT, adiciona a tupla (RECORDNUM, ABSTRACT) à lista de records_data\n",
        "    Se não tiver ABSTRACT, mas tiver EXTRACT, adiciona a tupla (RECORDNUM, EXTRACT) à lista de records_data\n",
        "    Se não tiver ABSTRACT nem EXTRACT, desconsidera o documento\n",
        "\n",
        "    Retorna a lista com as tuplas\n",
        "    \"\"\"\n",
        "    records_data = []\n",
        "\n",
        "    # Posso passar uma lista ou um arquivo único\n",
        "    # Se for um arquivo único, converte em lista de 1 elemento\n",
        "    if isinstance(file_paths, str):\n",
        "      file_paths = [file_paths]\n",
        "\n",
        "    for file_path in file_paths:\n",
        "      try:\n",
        "          tree = ET.parse(file_path)\n",
        "          root = tree.getroot()\n",
        "          record_elements = root.findall('.//RECORD') # Pego todos os elementos RECORD do arquivo\n",
        "          file_name = RetornaNomeArquivoDoPath(file_path)\n",
        "          logger.info(f'Gerador lista invertida - {file_name} possui {len(record_elements)} documentos')\n",
        "\n",
        "          if not record_elements:\n",
        "              logger.error(f'Arquivo {file_path} não possui RECORD')\n",
        "              continue\n",
        "\n",
        "          for record in record_elements:\n",
        "              record_num_element = record.find('RECORDNUM')\n",
        "              abstract_element = record.find('ABSTRACT')\n",
        "              extract_element = record.find('EXTRACT')\n",
        "\n",
        "              record_num = record_num_element.text if record_num_element is not None else None\n",
        "              abstract = abstract_element.text if abstract_element is not None else None\n",
        "              extract = extract_element.text if extract_element is not None else None\n",
        "\n",
        "              if record_num is None: # Se por acaso não tiver RECORDNUM\n",
        "                logger.warning(f'Gerador lista invertida - Erro ao pegar o RECORDNUM de um dos documentos no arquivo {file_name}')\n",
        "              elif abstract is not None: # Tem ABSTRACT\n",
        "                abstract = PreProcessamentoDeTextoRecuperado(abstract)\n",
        "                records_data.append((record_num, abstract))\n",
        "              elif extract is not None: # Não tem ABSTRACT, mas tem EXTRACT\n",
        "                logger.warning(f'Gerador lista invertida - Documento com RECORDNUM = {record_num} não possui ABSTRACT, vou usar o EXTRACT')\n",
        "                extract = PreProcessamentoDeTextoRecuperado(extract)\n",
        "                records_data.append((record_num, extract))\n",
        "              else: # Não tem ABSTRACT nem EXTRACT, desconsidero o documento\n",
        "                logger.error(f'Gerador lista invertida - Documento com RECORDNUM = {record_num} ({file_name}) não possui ABSTRACT nem EXTRACT, vou desconsiderar')\n",
        "\n",
        "      except FileNotFoundError:\n",
        "          logger.error(f'Gerador lista invertida - arquivo {file_path} não encontrado')\n",
        "      except ET.ParseError as e:\n",
        "          logger.error(f'Gerador lista invertida - Erro ao fazer parsing no arquivo XML {file_path}: {e}')\n",
        "      except Exception as e:\n",
        "          logger.error(f'Gerador lista invertida - Erro ao processar o arquivo {file_path}: {e}')\n",
        "\n",
        "    return records_data"
      ]
    },
    {
      "cell_type": "code",
      "execution_count": null,
      "metadata": {
        "colab": {
          "base_uri": "https://localhost:8080/"
        },
        "id": "AoX7BmV56wPX",
        "outputId": "2953cb6f-b51e-468e-fd34-0d168db58950"
      },
      "outputs": [],
      "source": [
        "# @title Lendo arquivos e gerando lista invertida\n",
        "\n",
        "arquivos_para_lista_invertida = LeArquivo_GLI_CFG(cfgEnum.LEIA)\n",
        "documentos = PegaDocumentosDosArquivosXML(arquivos_para_lista_invertida)\n",
        "lista_invertida = GeraListaInvertida(documentos)\n",
        "#SalvaListainvertidaEmCsv(lista_invertida)"
      ]
    },
    {
      "cell_type": "code",
      "execution_count": null,
      "metadata": {
        "colab": {
          "base_uri": "https://localhost:8080/"
        },
        "id": "8LsBtzt-We8j",
        "outputId": "7ee24b9a-9bd2-4836-c844-4d468d14967c"
      },
      "outputs": [],
      "source": [
        "SalvaListainvertidaEmCsv(lista_invertida)"
      ]
    },
    {
      "cell_type": "code",
      "execution_count": null,
      "metadata": {
        "colab": {
          "base_uri": "https://localhost:8080/"
        },
        "id": "EjMTNYS0oEAo",
        "outputId": "bb1006d8-3b1e-4473-b07a-1b64ae7cc8e8"
      },
      "outputs": [],
      "source": [
        "PrintListaInvertida(lista_invertida)"
      ]
    },
    {
      "cell_type": "code",
      "execution_count": null,
      "metadata": {
        "id": "hecgQb1F3xXF"
      },
      "outputs": [],
      "source": [
        "# @title (DELETAR) Testando a lista invertida\n",
        "# # o método split só admite um separador , então removemos as vírgulas\n",
        "# base1 = [\n",
        "#     (\"PN001\", \"Maria comprou um quilo de banana prata e banana ouro no mercado\"),\n",
        "#     (\"PN002\", \"Um quilo de prata vale muito dinheiro\"),\n",
        "#     (\"PN003\", \"Maria tem dinheiro para comprar um quilo de banana mas não de prata\"),\n",
        "#     (\"TF074\", [\"Quem casa quer casa com quem casou e quem não casou não tem casa\"]),\n",
        "#     (\"PN001\", \"WWWWWWWWWWWWWWWW banana quilo\"),\n",
        "#     (\"XS015\", [\"fumaça preta fumaça laranja\", \"suco de laranja\",\n",
        "#                \"suco de goiaba\", \"bolo de laranja\", \"torta de laranja\"])\n",
        "#     ]\n",
        "\n",
        "# #import gerador_lista_invertida\n",
        "# #import importlib\n",
        "# #importlib.reload(gerador_lista_invertida)\n",
        "\n",
        "# l = GeraListaInvertida(base1)\n",
        "# SalvaListainvertidaEmCsv(l)\n",
        "# #PrintListaInvertida(l)"
      ]
    },
    {
      "cell_type": "code",
      "execution_count": null,
      "metadata": {
        "id": "6AZH0x8wMR6c"
      },
      "outputs": [],
      "source": [
        "# @title Lendo os arquivos para gerar a lista"
      ]
    },
    {
      "cell_type": "markdown",
      "metadata": {
        "id": "h3Z3bsHl-aL7"
      },
      "source": [
        "# Indexador"
      ]
    },
    {
      "cell_type": "code",
      "execution_count": null,
      "metadata": {
        "id": "CmwUCfgtQk7G"
      },
      "outputs": [],
      "source": [
        "#%%writefile indexador.py"
      ]
    },
    {
      "cell_type": "markdown",
      "metadata": {
        "id": "tmIXamW5-cRo"
      },
      "source": [
        "# Buscador"
      ]
    },
    {
      "cell_type": "code",
      "execution_count": null,
      "metadata": {
        "id": "U-BM6ccWQknY"
      },
      "outputs": [],
      "source": [
        "#%%writefile buscador.py"
      ]
    }
  ],
  "metadata": {
    "colab": {
      "provenance": []
    },
    "kernelspec": {
      "display_name": "Python 3",
      "name": "python3"
    },
    "language_info": {
      "codemirror_mode": {
        "name": "ipython",
        "version": 3
      },
      "file_extension": ".py",
      "mimetype": "text/x-python",
      "name": "python",
      "nbconvert_exporter": "python",
      "pygments_lexer": "ipython3",
      "version": "3.10.5"
    }
  },
  "nbformat": 4,
  "nbformat_minor": 0
}
