{
  "cells": [
    {
      "cell_type": "markdown",
      "metadata": {
        "id": "4kYKvCUv4Xa_"
      },
      "source": [
        "**Nome:** Miguel Santos de Araujo do Nascimento"
      ]
    },
    {
      "cell_type": "markdown",
      "metadata": {
        "id": "T_25VhSs7Lcj"
      },
      "source": [
        "# Imports"
      ]
    },
    {
      "cell_type": "code",
      "execution_count": null,
      "metadata": {
        "colab": {
          "base_uri": "https://localhost:8080/"
        },
        "id": "6j0Lw4RnrKDX",
        "outputId": "50e65488-14be-45e5-e90b-11f272964e30"
      },
      "outputs": [],
      "source": [
        "# Remover acentuação de palavras\n",
        "!pip install unidecode"
      ]
    },
    {
      "cell_type": "code",
      "execution_count": null,
      "metadata": {
        "colab": {
          "base_uri": "https://localhost:8080/"
        },
        "id": "97kLQLqg4Qn8",
        "outputId": "e13e682f-5a75-4012-edde-882b116d2d49"
      },
      "outputs": [],
      "source": [
        "import nltk\n",
        "from nltk.tokenize import word_tokenize\n",
        "from nltk.corpus import stopwords\n",
        "from nltk import pos_tag\n",
        "\n",
        "nltk.download('stopwords')\n",
        "nltk.download('punkt')\n",
        "nltk.download('punkt_tab')\n",
        "\n",
        "import logging\n",
        "\n",
        "import xml.etree.ElementTree as ET\n",
        "\n",
        "from enum import Enum\n",
        "\n",
        "from unidecode import unidecode # Remover acentuação de palavras\n",
        "\n",
        "import pandas as pd"
      ]
    },
    {
      "cell_type": "markdown",
      "metadata": {
        "id": "67m7IuknDEM-"
      },
      "source": [
        "# Baixando arquivos de dados"
      ]
    },
    {
      "cell_type": "code",
      "execution_count": null,
      "metadata": {
        "colab": {
          "base_uri": "https://localhost:8080/"
        },
        "id": "tjWH5gxmDTK9",
        "outputId": "87e8eb0c-1d7f-4f68-fd58-6263519a0cd7"
      },
      "outputs": [],
      "source": [
        "!wget https://github.com/miguelsantosan/BMT_2025.2_Trabalho_1/raw/main/CysticFibrosis2.zip"
      ]
    },
    {
      "cell_type": "code",
      "execution_count": null,
      "metadata": {
        "colab": {
          "base_uri": "https://localhost:8080/"
        },
        "id": "5xuflP2JDiWY",
        "outputId": "5a84f442-14e4-4b0b-8331-40e79726522a"
      },
      "outputs": [],
      "source": [
        "!unzip -o CysticFibrosis2.zip -d CysticFibrosis2"
      ]
    },
    {
      "cell_type": "markdown",
      "metadata": {
        "id": "oU6VepsWM1Dr"
      },
      "source": [
        "# Configurações"
      ]
    },
    {
      "cell_type": "code",
      "execution_count": null,
      "metadata": {
        "id": "O8iCl2hlM2_6"
      },
      "outputs": [],
      "source": [
        "# @title Logging e pré processamento\n",
        "\n",
        "stop_en = stopwords.words('english')\n",
        "\n",
        "logging.basicConfig(level=logging.INFO, format='%(asctime)s - %(levelname)s - %(message)s')\n",
        "logger = logging.getLogger(__name__)\n",
        "logger.setLevel(logging.INFO)\n",
        "\n",
        "file_handler = logging.FileHandler('Trab1.log')\n",
        "file_handler.setLevel(logging.INFO)\n",
        "\n",
        "formatter = logging.Formatter('%(asctime)s - %(levelname)s - %(message)s')\n",
        "formatter.default_msec_format = '%s.%03d' # Mostrar milissegundos com ponto invés de vírgula\n",
        "file_handler.setFormatter(formatter)\n",
        "logger.addHandler(file_handler)"
      ]
    },
    {
      "cell_type": "code",
      "execution_count": null,
      "metadata": {
        "id": "m0H01JTJAtdd"
      },
      "outputs": [],
      "source": [
        "# @title Enum LEIA e ESCREVA\n",
        "\n",
        "\"\"\"\n",
        "Pra poder passar pras funções\n",
        "Assim não fico passando magic numbers\n",
        "\"\"\"\n",
        "# LEIA = 1\n",
        "# ESCREVA = 2\n",
        "\n",
        "class cfgEnum(Enum):\n",
        "  LEIA = 1\n",
        "  ESCREVA = 2\n",
        "  CONSULTAS = 3\n",
        "  ESPERADOS = 4\n",
        "  RESULTADOS = 5"
      ]
    },
    {
      "cell_type": "code",
      "execution_count": null,
      "metadata": {
        "id": "-7TNBpMvZtrt"
      },
      "outputs": [],
      "source": [
        "# @title Arquivos .dtd\n",
        "\n",
        "PROCESSADOR_CONSULTAS_FORMATO = r'CysticFibrosis2/data/cfc2-query.dtd'\n",
        "GLI_FORMATO = r'CysticFibrosis2/data/cfc2.dtd'"
      ]
    },
    {
      "cell_type": "markdown",
      "metadata": {
        "id": "6wdE9YDXWr2m"
      },
      "source": [
        "## Criando arquivos .CFG"
      ]
    },
    {
      "cell_type": "code",
      "execution_count": null,
      "metadata": {
        "colab": {
          "base_uri": "https://localhost:8080/"
        },
        "id": "nplePtg1WkRw",
        "outputId": "f31d6696-553e-4c3c-96dc-1d54146a39bf"
      },
      "outputs": [],
      "source": [
        "# @title PC.CFG\n",
        "\n",
        "CONFIG_PC_CONTENT = \"\"\"LEIA=CysticFibrosis2/data/cfquery.xml\n",
        "CONSULTAS=consultas.csv\n",
        "ESPERADOS=esperados.csv\n",
        "\"\"\"\n",
        "\n",
        "CONFIG_PC_NAME = \"PC.CFG\"\n",
        "\n",
        "with open(CONFIG_PC_NAME, \"w\") as f:\n",
        "    f.write(CONFIG_PC_CONTENT)\n",
        "\n",
        "print(f\"'{CONFIG_PC_NAME}' created successfully.\")"
      ]
    },
    {
      "cell_type": "code",
      "execution_count": null,
      "metadata": {
        "colab": {
          "base_uri": "https://localhost:8080/"
        },
        "id": "cqr17cBRYJOp",
        "outputId": "1bfd3730-c8d8-434b-e27d-d3b4aa286b33"
      },
      "outputs": [],
      "source": [
        "# @title GLI.CFG\n",
        "\n",
        "CONFIG_GLI_CONTENT = \"\"\"LEIA=CysticFibrosis2/data/cf74.xml\n",
        "LEIA=CysticFibrosis2/data/cf75.xml\n",
        "LEIA=CysticFibrosis2/data/cf76.xml\n",
        "LEIA=CysticFibrosis2/data/cf77.xml\n",
        "LEIA=CysticFibrosis2/data/cf78.xml\n",
        "LEIA=CysticFibrosis2/data/cf79.xml\n",
        "ESCREVA=lista_invertida.csv\n",
        "\"\"\"\n",
        "\n",
        "CONFIG_GLI_NAME = \"GLI.CFG\"\n",
        "\n",
        "with open(CONFIG_GLI_NAME, \"w\") as f:\n",
        "    f.write(CONFIG_GLI_CONTENT)\n",
        "\n",
        "print(f\"'{CONFIG_GLI_NAME}' created successfully.\")"
      ]
    },
    {
      "cell_type": "code",
      "execution_count": null,
      "metadata": {
        "colab": {
          "base_uri": "https://localhost:8080/"
        },
        "id": "ZOH71ap-Xvk6",
        "outputId": "4706b5b8-6436-4e30-f713-854c14d3bc1b"
      },
      "outputs": [],
      "source": [
        "# @title INDEX.CFG\n",
        "\n",
        "CONFIG_INDEX_CONTENT = \"\"\"LEIA=lista_invertida.csv\n",
        "ESCREVA=matriz_tfidf.csv\n",
        "\"\"\"\n",
        "\n",
        "CONFIG_INDEX_NAME = \"INDEX.CFG\"\n",
        "\n",
        "with open(CONFIG_INDEX_NAME, \"w\") as f:\n",
        "    f.write(CONFIG_INDEX_CONTENT)\n",
        "\n",
        "print(f\"'{CONFIG_INDEX_NAME}' created successfully.\")"
      ]
    },
    {
      "cell_type": "code",
      "execution_count": null,
      "metadata": {
        "colab": {
          "base_uri": "https://localhost:8080/"
        },
        "id": "aXDthTZlXvEy",
        "outputId": "7aff8d9c-6c8a-437b-e697-16364e651fa8"
      },
      "outputs": [],
      "source": [
        "# @title BUSCA.CFG\n",
        "\n",
        "CONFIG_BUSCA_CONTENT = \"\"\"MODELO=matriz_tfidf.csv\n",
        "CONSULTAS=consultas.csv\n",
        "RESULTADOS=resultados.csv\n",
        "\"\"\"\n",
        "\n",
        "CONFIG_BUSCA_NAME = \"BUSCA.CFG\"\n",
        "\n",
        "with open(CONFIG_BUSCA_NAME, \"w\") as f:\n",
        "    f.write(CONFIG_BUSCA_CONTENT)\n",
        "\n",
        "print(f\"'{CONFIG_BUSCA_NAME}' created successfully.\")"
      ]
    },
    {
      "cell_type": "code",
      "execution_count": null,
      "metadata": {
        "id": "rrV9O4FM8SZE"
      },
      "outputs": [],
      "source": [
        "# @title (DELETAR) Teste\n",
        "# logger.debug(\"This is a debug message.\")\n",
        "# logger.info(\"This is an info message.\")\n",
        "# logger.warning(\"This is a warning message.\")\n",
        "# logger.error(\"This is an error message.\")\n",
        "# logger.critical(\"This is a critical message.\")"
      ]
    },
    {
      "cell_type": "markdown",
      "metadata": {
        "id": "y3nzcVZIbmmU"
      },
      "source": [
        "# Funções"
      ]
    },
    {
      "cell_type": "code",
      "execution_count": null,
      "metadata": {
        "id": "Z04S_kBZ0Iud"
      },
      "outputs": [],
      "source": [
        "# @title Logging - calcular tempo\n",
        "\n",
        "import time\n",
        "\n",
        "def CalculaTempoMedio(duracoes):\n",
        "  tempo_medio = sum(duracoes)/len(duracoes)\n",
        "  return tempo_medio"
      ]
    },
    {
      "cell_type": "code",
      "execution_count": null,
      "metadata": {
        "id": "lM3VPuc8bnds"
      },
      "outputs": [],
      "source": [
        "# @title Pegando arquivos de uma pasta\n",
        "\n",
        "import glob\n",
        "import os\n",
        "\n",
        "def RetornaNomeArquivoDoPath(file_path):\n",
        "  \"\"\"\n",
        "  Retorna apenas o nome do arquivo a partir do path\n",
        "  \"\"\"\n",
        "  # Faz split no path, vira uma lista, pega o último elemento\n",
        "  file_name = file_path.split('/')[-1]\n",
        "  return file_name\n",
        "\n",
        "def RetornaArquivosNoDiretorio_old(dir_path, show_files=False):\n",
        "  \"\"\"\n",
        "  Essa função precisa do path completo da pasta,\n",
        "  então vou usar a outra que percorre as subpastas\n",
        "  \"\"\"\n",
        "  file_paths = glob.glob(dir_path + '/*')\n",
        "\n",
        "  if show_files:\n",
        "    print(f'Peguei os arquivos da pasta {dir_path}')\n",
        "    for file_path in file_paths:\n",
        "      print(file_path)\n",
        "\n",
        "  return file_paths\n",
        "\n",
        "def RetornaArquivosNoDiretorio(dir_path, file_type=None, ignore_list=None, show_files=False):\n",
        "  \"\"\"\n",
        "  Retorna os arquivos de dir_path, percorrendo as subpastas\n",
        "  file_type == None --> todos os arquivos\n",
        "  file_type != None --> apenas arquivos .file_type\n",
        "  ignore_list != None --> ignoro os arquivos na lista\n",
        "  \"\"\"\n",
        "  file_paths = []\n",
        "  #ignore_list = ['cfquery.xml']\n",
        "\n",
        "  if file_type == None:\n",
        "    logger.info(f'Buscando todos os arquivos da pasta {dir_path} para armazenar em memória')\n",
        "  else:\n",
        "    logger.info(f'Buscando todos os arquivos .{file_type} da pasta {dir_path} para armazenar em memória')\n",
        "\n",
        "  for root, _, files in os.walk(dir_path):\n",
        "      for file in files:\n",
        "        # Se tiver arquivos para ignorar, verifica se o arquivo atual está em ignore_list\n",
        "        if ignore_list != None:\n",
        "          file_path = os.path.join(root, file)\n",
        "          file_name = RetornaNomeArquivoDoPath(file_path)\n",
        "          if file_name in ignore_list:\n",
        "            continue\n",
        "\n",
        "        if file_type == None: # Todos os arquivos\n",
        "          file_paths.append(os.path.join(root, file))\n",
        "        else: # Apenas arquivos de um tipo específico\n",
        "          if (file_type != None) and (file.endswith(f'.{file_type}')):\n",
        "              file_paths.append(os.path.join(root, file))\n",
        "\n",
        "  if file_type == None:\n",
        "    logger.info(f'Todos os arquivos da pasta {dir_path} armazenados em memória com sucesso')\n",
        "  else:\n",
        "    logger.info(f'Arquivos .{file_type} da pasta {dir_path} armazenados em memória com sucesso')\n",
        "\n",
        "  if show_files:\n",
        "    #print(f'Peguei todos os arquivos .{file_type} da pasta {dir_path}')\n",
        "    for file_path in file_paths:\n",
        "      print(file_path)\n",
        "\n",
        "  return file_paths"
      ]
    },
    {
      "cell_type": "code",
      "execution_count": null,
      "metadata": {
        "id": "gD3i1n0DOIll"
      },
      "outputs": [],
      "source": [
        "# @title Pré-processamento do texto recuperado\n",
        "from unidecode import unidecode\n",
        "import string\n",
        "\n",
        "def TrocaNewlinePorEspaco(texto):\n",
        "  \"\"\"\n",
        "  Substitui caracteres de nova linha (\\n) por espaços em uma string\n",
        "  \"\"\"\n",
        "  if isinstance(texto, str):\n",
        "    return texto.replace('\\n', ' ')\n",
        "  else:\n",
        "    logger.error('Não foi passada uma string para a função TrocaNewlinePorEspaco()')\n",
        "    return texto\n",
        "\n",
        "def RemoveAspas(texto):\n",
        "  \"\"\"\n",
        "  Remove aspas (simples e duplas) de uma string\n",
        "  \"\"\"\n",
        "  if isinstance(texto, str):\n",
        "    texto = texto.replace(\"'\", \"\")\n",
        "    texto = texto.replace(\"\\\"\", \"\")\n",
        "    return texto\n",
        "  else:\n",
        "    logger.error('Não foi passada uma string para a função RemoveAspas()')\n",
        "    return texto\n",
        "\n",
        "def RemovePontuacao(texto):\n",
        "  \"\"\"\n",
        "  Remove pontuação de uma string\n",
        "  \"\"\"\n",
        "  if isinstance(texto, str):\n",
        "    #texto = texto.translate(str.maketrans('', '', '.,;!?()[]{}<>=´`~^')) # Remove todos esses caracteres, melhor que ter vários replace\n",
        "    texto = texto.translate(str.maketrans('', '', string.punctuation)) # string.punctuation == '!\"#$%&'()*+,-./:;<=>?@[\\]^_`{|}~'\n",
        "    return texto\n",
        "  else:\n",
        "    logger.error('Não foi passada uma string para a função RemoveAspas()')\n",
        "    return texto\n",
        "\n",
        "def RemoveAcentuacao(texto):\n",
        "  if isinstance(texto, str):\n",
        "    return unidecode(texto)\n",
        "  else:\n",
        "    logger.error('Não foi passada uma string para a função RemoveAcentuacao()')\n",
        "    return texto\n",
        "\n",
        "def RemoveStopWords(texto):\n",
        "  \"\"\"\n",
        "  Remove as stop words de uma string\n",
        "  \"\"\"\n",
        "  if isinstance(texto, str):\n",
        "    tokens = word_tokenize(texto)\n",
        "    tokens_filtrados = [p for p in tokens if p.lower() not in stop_en]\n",
        "    return ' '.join(tokens_filtrados)\n",
        "  else:\n",
        "    logger.error('Não foi passada uma string para a função RemoveStopWords()')\n",
        "    return texto\n",
        "\n",
        "def RemoveEspacosEmExcesso(texto, nome_modulo, nome_funcao):\n",
        "  \"\"\"\n",
        "  Remove espaços em excesso de uma string, substituindo 2 ou mais espaços seguidos por apenas 1\n",
        "  \"\"\"\n",
        "  if isinstance(texto, str):\n",
        "    return ' '.join(texto.split())\n",
        "  else:\n",
        "    logger.error(f'{nome_modulo} ({nome_funcao}) - Não foi passada uma string para a função RemoveEspacosEmExcesso()')\n",
        "    return texto\n",
        "\n",
        "def PreProcessamentoDeTextoRecuperado(texto, remove_stopwords=False):\n",
        "  texto = TrocaNewlinePorEspaco(texto)\n",
        "  texto = RemoveAspas(texto)\n",
        "  texto = RemovePontuacao(texto)\n",
        "  texto = RemoveAcentuacao(texto)\n",
        "  if remove_stopwords:\n",
        "    texto = RemoveStopWords(texto)\n",
        "  return texto"
      ]
    },
    {
      "cell_type": "code",
      "execution_count": null,
      "metadata": {
        "colab": {
          "base_uri": "https://localhost:8080/",
          "height": 141
        },
        "id": "t2v5_noLRW-x",
        "outputId": "d6e2d240-7a2c-41a6-d38b-eca809ca78a6"
      },
      "outputs": [],
      "source": [
        "# @title (DELETAR) Testando pré-processamento de texto\n",
        "t = \"STÈÉL ~ÎRÔN METÃL 'asa\\/\\/\\/d\\n\\n[{(()}}{]be... bebe ;;....,,,.;be be be is i am 'asda'fgrttaaa\\\"\\\"\"\n",
        "print(t)\n",
        "#t=t.replace(\"'\", \"\")\n",
        "#t=t.replace(\"\\\"\", \"\")\n",
        "t = PreProcessamentoDeTextoRecuperado(t)\n",
        "print(t)\n",
        "print(type(t))\n",
        "print(len(t))\n",
        "\n",
        "t = \"Cléber François Úl`[´]`làáíìúùòóèé-asbb\"\n",
        "t = RemovePontuacao(t)\n",
        "t = unidecode(t)\n",
        "t"
      ]
    },
    {
      "cell_type": "code",
      "execution_count": null,
      "metadata": {
        "colab": {
          "base_uri": "https://localhost:8080/"
        },
        "id": "WCqZBKl4P8h8",
        "outputId": "e31dcad5-a01c-49b9-f3d2-801bf31fb6a6"
      },
      "outputs": [],
      "source": [
        "# @title (DELETAR) Testando correção de texto\n",
        "\n",
        "test_text1 = \"\"\"The significance of Pseudomonas aeruginosa infection in the\n",
        "respiratory tract of 9 cystic fibrosis patients have been studied\n",
        "by means of immunoelectrophoretical analysis of patients' sera for\n",
        "the number of precipitins against Pseudomonas aeruginosa and the\n",
        "concentrations of 16 serum proteins.  In addition, the clinical and\n",
        "radiographical status of the lungs have been evaluated using 2\n",
        "scoring systems.  Precipitins against Pseudomonas aeruginosa were\n",
        "demonstrated in all sera, the maximum number in one serum was 22.\n",
        "The concentrations of 12 of the serum proteins were significantly\n",
        "changed compared with matched control persons.  Notably IgG and IgA\n",
        "were elevated and the \"acute phase proteins\" were changed, the\n",
        "latter suggesting active tissue damage.  The concentrations of 3 of\n",
        "the acute phase proteins, notably haptoglobin, were correlated to\n",
        "the number of precipitins suggesting that the respiratory tract\n",
        "infection in patients with many precipitins is accompanied by more\n",
        "tissue damage than the infection in patients with few precipitins.\n",
        "The results indicate no protective value of the many precipitins on\n",
        "the tissue of the respiratory tract.\"\"\"\n",
        "\n",
        "test_text2 = \"\"\"Dr. Economou-Mavrou and his colleagues appear to have misunderstood\n",
        "my previous note concerning skin wrinkling in cystic fibrosis.  The\n",
        "range of normality varies in different climatic conditions, and in\n",
        "Aukland wrinkling does not appear in cool tap-water (18-22 C) under\n",
        "3 minutes in normals.  Skin wrinkling on immersion appears to be\n",
        "age-related, but is difficult to detect reliably in the newborn.\n",
        "Prior washing of the hands, or immersion in sea-water (even the day\n",
        "before), accelerates skin wrinkling, as does warm weather.  I would\n",
        "suggest that \"normality\" needs redefining in Athens if 6 of 17\n",
        "\"normals\" were \"abnormal\".\"\"\"\n",
        "\n",
        "test_text1 = PreProcessamentoDeTextoRecuperado(test_text1)\n",
        "test_text2 = PreProcessamentoDeTextoRecuperado(test_text2)\n",
        "\n",
        "test_tokens1 = word_tokenize(test_text1)\n",
        "test_tokens2 = word_tokenize(test_text2)\n",
        "\n",
        "print(test_tokens1)\n",
        "print(test_tokens2)"
      ]
    },
    {
      "cell_type": "markdown",
      "metadata": {
        "id": "AnvLrsJnbIUc"
      },
      "source": [
        "# Armazenando arquivos"
      ]
    },
    {
      "cell_type": "code",
      "execution_count": null,
      "metadata": {
        "id": "fDyD2C5O09Mb"
      },
      "outputs": [],
      "source": [
        "# @title Arquivos que não serão adicionados à base\n",
        "\n",
        "ignore_list = ['cfquery.xml']"
      ]
    },
    {
      "cell_type": "code",
      "execution_count": null,
      "metadata": {
        "colab": {
          "base_uri": "https://localhost:8080/"
        },
        "id": "InA_BZfqC_5-",
        "outputId": "699d13d2-1d9c-462c-f1ab-a9d573c3850b"
      },
      "outputs": [],
      "source": [
        "dir_path = 'CysticFibrosis2/'\n",
        "file_paths_CysticFibrosis2 = RetornaArquivosNoDiretorio(dir_path,  'xml', ignore_list, show_files=True)"
      ]
    },
    {
      "cell_type": "markdown",
      "metadata": {
        "id": "dTFwaIFA-SNF"
      },
      "source": [
        "# Processador de consultas"
      ]
    },
    {
      "cell_type": "code",
      "execution_count": null,
      "metadata": {
        "id": "FDHOirBnQSTt"
      },
      "outputs": [],
      "source": [
        "# @title Funções para processar consultas\n",
        "\n",
        "#%%writefile processador_de_consultas.py\n",
        "\n",
        "import logging, time, inspect\n",
        "import xml.etree.ElementTree as ET\n",
        "\n",
        "def RetornaNomeModulo_ProcessadorDeConsultas():\n",
        "  \"\"\"\n",
        "  Se quiser mudar o nome que aparece no logger, só alterar a string retornada nessa função\n",
        "  \"\"\"\n",
        "  return 'Processador de Consultas'\n",
        "\n",
        "def LeArquivo_PC_CFG(flag, config_file='PC.CFG'):\n",
        "  \"\"\"\n",
        "  Lê o arquivo PC.CFG\n",
        "  flag == cfgEnum.LEIA --> Pego o arquivo XML que vai ser lido\n",
        "  flag == cfgEnum.CONSULTAS --> Pega o nome do CSV com as consultas\n",
        "  flag == cfgEnum.ESPERADOS --> Pega o nome do CSV com os documentos esperados\n",
        "  \"\"\"\n",
        "  nome_modulo = RetornaNomeModulo_ProcessadorDeConsultas()\n",
        "  nome_funcao = inspect.currentframe().f_code.co_name # Retorna o nome da função pra passar no logger\n",
        "  filename = None\n",
        "  file_paths = []\n",
        "\n",
        "  if flag not in [cfgEnum.LEIA, cfgEnum.CONSULTAS, cfgEnum.ESPERADOS]:\n",
        "      logger.error(f'{nome_modulo} ({nome_funcao}) - Flag inválida: \\'{flag}\\'. Use flag \\'cfgEnum.LEIA\\' ou \\'cfgEnum.CONSULTAS\\' ou \\'cfgEnum.ESPERADOS\\'')\n",
        "      return\n",
        "\n",
        "  try:\n",
        "    with open(config_file, 'r') as f:\n",
        "      for line in f:\n",
        "        line = line.strip()\n",
        "        if (flag == cfgEnum.LEIA) and (line.startswith('LEIA=')):\n",
        "          logger.info(f'{nome_modulo} ({nome_funcao}) - Lendo arquivo {config_file} para pegar o arquivo XML com as consultas')\n",
        "          filename = line.split('=', 1)[1]\n",
        "          logger.info(f'{nome_modulo} ({nome_funcao}) - Arquivo XML com as consultas recuperado com sucesso')\n",
        "        elif (flag == cfgEnum.CONSULTAS) and (line.startswith('CONSULTAS=')):\n",
        "          logger.info(f'{nome_modulo} ({nome_funcao}) - Lendo arquivo {config_file} para pegar o nome do CSV com as consultas')\n",
        "          filename = line.split('=', 1)[1]\n",
        "          logger.info(f'{nome_modulo} ({nome_funcao}) - Nome do CSV com as consultas recuperado com sucesso')\n",
        "        elif (flag == cfgEnum.ESPERADOS) and (line.startswith('ESPERADOS=')):\n",
        "          logger.info(f'{nome_modulo} ({nome_funcao}) - Lendo arquivo {config_file} para pegar o nome do CSV com os documentos esperados')\n",
        "          filename = line.split('=', 1)[1]\n",
        "          logger.info(f'{nome_modulo} ({nome_funcao}) - Nome do CSV com os documentos esperados recuperado com sucesso')\n",
        "\n",
        "      return filename\n",
        "\n",
        "  except FileNotFoundError:\n",
        "    logger.error(f'{nome_modulo} ({nome_funcao}) - Arquivo {config_file} não encontrado.')\n",
        "    return\n",
        "  except Exception as e:\n",
        "    logger.error(f\"{nome_modulo} ({nome_funcao}) - Erro ao ler arquivo de configuração '{config_file}': {e}\")\n",
        "    return\n",
        "\n",
        "def DefineRelevanciaDeDocumentoEmConsulta(item_score):\n",
        "  \"\"\"\n",
        "  Determina a relevância com base em uma string de 4 caracteres.\n",
        "  Uso Item score para determinar se um documento vai para a lista de esperados ou não\n",
        "\n",
        "  Se mais da metade votarem que não é relevante, não considero relevante\n",
        "  Se a pontuação total for <= 3 e pelo menos 2 votarem como não relevante, não considero relevante\n",
        "  Caso contrário, considero relevante\n",
        "  \"\"\"\n",
        "  nome_modulo = RetornaNomeModulo_ProcessadorDeConsultas()\n",
        "  nome_funcao = inspect.currentframe().f_code.co_name # Retorna o nome da função pra passar no logger\n",
        "  pontuacao_total = sum(int(voto) for voto in item_score)\n",
        "  zeros_count = item_score.count('0')\n",
        "\n",
        "  if zeros_count >= 3: # Se mais da metade votarem que não é relevante, não considero relevante\n",
        "    return False\n",
        "  elif pontuacao_total <= 3 and zeros_count >= 2: # Se a pontuação total for <= 3 e pelo menos 2 votarem como não relevante, não considero relevante\n",
        "    return False\n",
        "  else:\n",
        "    return True\n",
        "\n",
        "def ContaVotos(item_score):\n",
        "  \"\"\"\n",
        "  Conta o número de votos de um documento em uma consulta\n",
        "  Como diz o enunciado: \"Considerar qualquer coisa diferente de zero como um voto\"\n",
        "  \"\"\"\n",
        "  zeros_count = item_score.count('0')\n",
        "  votos = len(item_score) - zeros_count\n",
        "\n",
        "  return votos\n",
        "\n",
        "def PegaConsultasDoArquivoXML(file_path):\n",
        "  \"\"\"\n",
        "  Pega as consultas do arquivo XML\n",
        "  Retorna uma lista com as consultas e uma lista de triplas (QueryNumber, DocNumber, DocVotes)\n",
        "  \"\"\"\n",
        "  nome_modulo = RetornaNomeModulo_ProcessadorDeConsultas()\n",
        "  nome_funcao = inspect.currentframe().f_code.co_name # Retorna o nome da função pra passar no logger\n",
        "  file_name = RetornaNomeArquivoDoPath(file_path)\n",
        "  consultas_dict = {}\n",
        "  consultas_documentos_esperados = []\n",
        "\n",
        "  duracoes_consultas = []\n",
        "  if not isinstance(file_path, str):\n",
        "    logger.error(f'{nome_modulo} ({nome_funcao}) - o endereço do arquivo passado não é uma string')\n",
        "\n",
        "  try:\n",
        "    time_arquivo_xml_init = time.time()\n",
        "    logger.info(f'{nome_modulo} ({nome_funcao}) - Pegando consultas do arquivo {file_name}')\n",
        "    tree = ET.parse(file_path)\n",
        "    root = tree.getroot()\n",
        "    query_elements = root.findall('.//QUERY') # Pego todos os elementos QUERY do XML\n",
        "    logger.info(f'{nome_modulo} ({nome_funcao}) - Foram encontradas {len(query_elements)} consultas no arquivo {file_name}')\n",
        "    for q in query_elements: # Processo as consultas\n",
        "      #print('query========') # Debug\n",
        "      time_consulta_init = time.time()\n",
        "\n",
        "      queryNumber = q.find('QueryNumber').text\n",
        "      queryText = q.find('QueryText').text\n",
        "      queryText = PreProcessamentoDeTextoRecuperado(queryText)\n",
        "      queryText = queryText.upper()\n",
        "      queryText = RemoveEspacosEmExcesso(queryText, nome_modulo, nome_funcao)\n",
        "\n",
        "      time_consulta_final = time.time()\n",
        "      duracao_consulta = time_consulta_final - time_consulta_init\n",
        "      duracoes_consultas.append(duracao_consulta)\n",
        "\n",
        "      consultas_dict[queryNumber] = queryText\n",
        "      #consultas_dict.append((queryNumber, queryText))\n",
        "\n",
        "      # Agora vou olhar as pontuações para construir as consultas esperadas\n",
        "      records_element = q.find('.//Records')\n",
        "      resultados = records_element.findall('Item')\n",
        "      for r in resultados:\n",
        "        score = r.attrib['score'] # String de pontuação\n",
        "        doc_id = r.text # ID do documento\n",
        "        votos = ContaVotos(score) # DocVotes: número de votos\n",
        "\n",
        "        #print(f'{score} | {doc_id}') # Debug\n",
        "\n",
        "        is_relevante = DefineRelevanciaDeDocumentoEmConsulta(score)\n",
        "        if is_relevante:\n",
        "          consultas_documentos_esperados.append((int(queryNumber), doc_id, votos))\n",
        "\n",
        "    #print(consultas_documentos_esperados) # Debug\n",
        "\n",
        "    logger.info(f'{nome_modulo} ({nome_funcao}) - {len(consultas_dict)} consultas do arquivo {file_name} recuperadas com sucesso')\n",
        "\n",
        "    #PrintConsultas(consultas_dict) # Debug\n",
        "\n",
        "  except FileNotFoundError:\n",
        "    logger.error(f'{nome_modulo} ({nome_funcao}) - arquivo {file_path} não encontrado')\n",
        "\n",
        "  time_arquivo_xml_final = time.time()\n",
        "  duracao_arquivo_xml = time_arquivo_xml_final - time_arquivo_xml_init\n",
        "  logger.info(f'{nome_modulo} ({nome_funcao}) - Tempo de processamento para pegar as consultas do arquivo {file_name}: {duracao_arquivo_xml*1000:.3f} milissegundos')\n",
        "\n",
        "  tempo_medio_consultas = CalculaTempoMedio(duracoes_consultas)\n",
        "  logger.info(f'{nome_modulo} ({nome_funcao}) - Tempo médio de processamento de uma consulta: {tempo_medio_consultas*1000:.3f} milissegundos')\n",
        "\n",
        "  return consultas_dict, consultas_documentos_esperados\n",
        "\n",
        "def SalvaConsultasEmCSV(consultas_dict, config_file='PC.CFG', separator=';'):\n",
        "  \"\"\"\n",
        "  Salva as consultas em um arquivo CSV\n",
        "  \"\"\"\n",
        "  nome_modulo = RetornaNomeModulo_ProcessadorDeConsultas()\n",
        "  nome_funcao = inspect.currentframe().f_code.co_name # Retorna o nome da função pra passar no logger\n",
        "  file_path = LeArquivo_PC_CFG(cfgEnum.CONSULTAS)\n",
        "\n",
        "  try:\n",
        "    with open(file_path, 'w', newline='') as csvfile:\n",
        "      for key, values in consultas_dict.items():\n",
        "        csvfile.write(f\"{key}{separator}{values}\\n\")\n",
        "    logger.info(f'{nome_modulo} ({nome_funcao}) - Consultas salvas em {file_path} com sucesso')\n",
        "  except IOError as e:\n",
        "    logger.error(f'{nome_modulo} ({nome_funcao}) - Erro ao salvar as consultas em {file_path}: {e}')\n",
        "\n",
        "import csv\n",
        "\n",
        "def SalvaDocumentosEsperadosEmCSV(consultas_documentos_esperados, config_file='PC.CFG', separator=';'):\n",
        "  \"\"\"\n",
        "  Salva os documentos esperados das consultas em um arquivo CSV\n",
        "  O CSV tem cabeçalhos (QueryNumber, DocNumber, DocVotes)\n",
        "  \"\"\"\n",
        "  nome_modulo = RetornaNomeModulo_ProcessadorDeConsultas()\n",
        "  nome_funcao = inspect.currentframe().f_code.co_name # Retorna o nome da função pra passar no logger\n",
        "  file_name = LeArquivo_PC_CFG(cfgEnum.ESPERADOS)\n",
        "\n",
        "  try:\n",
        "    tempo_init = time.time()\n",
        "    with open(file_name, 'w', newline='', encoding='utf-8') as f:\n",
        "      writer = csv.writer(f, delimiter=separator)\n",
        "      writer.writerow(['QueryNumber', 'DocNumber', 'DocVotes'])\n",
        "      writer.writerows(consultas_documentos_esperados)\n",
        "\n",
        "    tempo_final = time.time()\n",
        "    duracao = tempo_final - tempo_init\n",
        "    duracao_ms = duracao * 1000\n",
        "    logger.info(f'{nome_modulo} ({nome_funcao}) - Documentos esperados das consultas salvos em {file_name} com sucesso em {duracao_ms:3f} milissegundos')\n",
        "  except Exception as e:\n",
        "    logger.error(f'{nome_modulo} ({nome_funcao}) - Erro ao salvar os documentos esperados das consultas em {file_name}: {e}')\n",
        "\n",
        "# Função para debug\n",
        "# Comecei usando lista de tuplas, essa era a função pra printar\n",
        "def PrintConsultas_old(consultas):\n",
        "  for i in range(len(consultas)):\n",
        "    print(\" \",consultas[i][0],\" & \",str(consultas[i][1]), \" \\\\\\\\\")\n",
        "\n",
        "# Função para debug\n",
        "def PrintConsultas(consultas):\n",
        "  chaves = [i for i in consultas.keys() ]\n",
        "  chaves.sort()\n",
        "\n",
        "  for i in chaves:\n",
        "    print(\" \",i,\" & \",str(consultas[i]), \" \\\\\\\\\")\n",
        "\n",
        "def Modulo_ProcessadorDeConsultas():\n",
        "  \"\"\"\n",
        "  Executa todas as funções para processar as consultas\n",
        "  \"\"\"\n",
        "  nome_modulo = RetornaNomeModulo_ProcessadorDeConsultas()\n",
        "  nome_funcao = inspect.currentframe().f_code.co_name # Retorna o nome da função pra passar no logger\n",
        "\n",
        "  logger.info(f'{nome_modulo} ({nome_funcao}) - Iniciando processador de consultas')\n",
        "\n",
        "  file_path = LeArquivo_PC_CFG(cfgEnum.LEIA)\n",
        "  consultas_dict, consultas_documentos_esperados = PegaConsultasDoArquivoXML(file_path)\n",
        "  SalvaConsultasEmCSV(consultas_dict)\n",
        "  SalvaDocumentosEsperadosEmCSV(consultas_documentos_esperados)\n",
        "\n",
        "  return consultas_dict, consultas_documentos_esperados"
      ]
    },
    {
      "cell_type": "code",
      "execution_count": null,
      "metadata": {
        "colab": {
          "base_uri": "https://localhost:8080/"
        },
        "id": "hmQ562DVCz6h",
        "outputId": "0fc51269-7fb3-4bd9-c05b-03fe5679ca08"
      },
      "outputs": [],
      "source": [
        "# @title Processando consultas\n",
        "\n",
        "consultas_dict, consultas_documentos_esperados = Modulo_ProcessadorDeConsultas()"
      ]
    },
    {
      "cell_type": "code",
      "execution_count": null,
      "metadata": {
        "id": "5UOAlR_5v7Si"
      },
      "outputs": [],
      "source": [
        "# @title (DEBUG) Imprime as consultas\n",
        "#PrintConsultas(consultas_dict)"
      ]
    },
    {
      "cell_type": "markdown",
      "metadata": {
        "id": "gejJhyne-Wc6"
      },
      "source": [
        "# Gerador lista invertida"
      ]
    },
    {
      "cell_type": "code",
      "execution_count": null,
      "metadata": {
        "id": "ffQtgmtHQlOJ"
      },
      "outputs": [],
      "source": [
        "# @title Funções para gerar a lista\n",
        "\n",
        "#%%writefile gerador_lista_invertida.py\n",
        "import logging, time, inspect\n",
        "import xml.etree.ElementTree as ET\n",
        "\n",
        "def RetornaNomeModulo_GeradorListaInvertida():\n",
        "  \"\"\"\n",
        "  Se quiser mudar o nome que aparece no logger, só alterar a string retornada nessa função\n",
        "  \"\"\"\n",
        "  return 'Gerador Lista Invertida'\n",
        "\n",
        "def GeraListaInvertida(base):\n",
        "  \"\"\"\n",
        "  base é uma lista de tuplas, onde o primeiro elemento é o ID do documento e o segundo é o texto do documento\n",
        "  Percorre todos os textos e gera a lista invertida\n",
        "  Funciona com lista de texto, assim posso ter doc: [doc, [doc_texto1, doc_texto2, ...]] e contam para o mesmo documento\n",
        "  Retorna a lista invertida\n",
        "  \"\"\"\n",
        "  nome_modulo = RetornaNomeModulo_GeradorListaInvertida()\n",
        "  nome_funcao = inspect.currentframe().f_code.co_name # Retorna o nome da função pra passar no logger\n",
        "  lista_invertida = {}\n",
        "\n",
        "  logger.info(f'{nome_modulo} ({nome_funcao}) - Gerando lista invertida')\n",
        "\n",
        "  duracoes = []\n",
        "  for doc_tupla in base:\n",
        "    duracoes = []\n",
        "    tempo_init = time.time()\n",
        "    doc_id = int(doc_tupla[0]) # ESTOU CONVERTENDO PARA INT PORQUE O ENUNCIADO E O ARQUIVO cfquery.xml MOSTRA OS RECORDS COMO INT\n",
        "    doc_info = doc_tupla[1]\n",
        "\n",
        "    # Se for string única, transforma em lista de 1 elemento\n",
        "    if isinstance(doc_info, str):\n",
        "        doc_info = [doc_info]\n",
        "\n",
        "    for info in doc_info:\n",
        "      fraselc = str.upper(info).split()\n",
        "      for palavra in fraselc:\n",
        "        docs = lista_invertida.get(palavra, [])\n",
        "        docs.append(doc_id)\n",
        "        lista_invertida[palavra]=docs\n",
        "\n",
        "    tempo_final = time.time()\n",
        "    duracao = tempo_final - tempo_init\n",
        "    duracoes.append(duracao)\n",
        "\n",
        "  tempo_medio = CalculaTempoMedio(duracoes)\n",
        "  tempo_medio_ms = tempo_medio * 1000\n",
        "\n",
        "  logger.info(f'{nome_modulo} ({nome_funcao}) - Lista invertida gerada com sucesso')\n",
        "  #logger.info(f'{nome_modulo} ({nome_funcao}) - Tempo médio de processamento de um documento para gerar a lista: {tempo_medio:.5f} segundos')\n",
        "  logger.info(f'{nome_modulo} ({nome_funcao}) - Tempo médio de processamento de um documento para gerar a lista: {tempo_medio_ms:.3f} milissegundos')\n",
        "\n",
        "  return lista_invertida\n",
        "\n",
        "def LeArquivo_GLI_CFG(flag, config_file='GLI.CFG'):\n",
        "  \"\"\"\n",
        "  Lê o arquivo GLI.CFG\n",
        "  flag == cfgEnum.LEIA --> Pego os arquivos XML que vão ser lidos\n",
        "  flag == cfgEnum.ESCREVA --> Pega o nome do CSV com a lista invertida\n",
        "  \"\"\"\n",
        "  nome_modulo = RetornaNomeModulo_GeradorListaInvertida()\n",
        "  nome_funcao = inspect.currentframe().f_code.co_name # Retorna o nome da função pra passar no logger\n",
        "  filename = None\n",
        "  file_paths = []\n",
        "\n",
        "  try:\n",
        "    with open(config_file, 'r') as f:\n",
        "      match flag:\n",
        "        case cfgEnum.LEIA:\n",
        "          logger.info(f'{nome_modulo} ({nome_funcao}) - Lendo arquivo {config_file} para pegar os arquivos XML para ler')\n",
        "          for line in f:\n",
        "            line = line.strip()\n",
        "            if line.startswith('LEIA='):\n",
        "              path = line.split('=', 1)[1]\n",
        "              file_paths.append(path)\n",
        "          logger.info(f'{nome_modulo} ({nome_funcao}) - Arquivos XML para ler recuperados com sucesso')\n",
        "\n",
        "          return file_paths\n",
        "\n",
        "        case cfgEnum.ESCREVA:\n",
        "          logger.info(f'{nome_modulo} ({nome_funcao}) - Lendo arquivo {config_file} para pegar o nome do CSV com a lista invertida')\n",
        "          for line in f:\n",
        "            line = line.strip()\n",
        "            if line.startswith('ESCREVA='):\n",
        "              filename = line.split('=', 1)[1]\n",
        "              logger.info(f'{nome_modulo} ({nome_funcao}) - Nome do CSV com a lista invertida recuperado com sucesso')\n",
        "\n",
        "              return filename\n",
        "\n",
        "        case _:\n",
        "          logger.error(f'{nome_modulo} ({nome_funcao}) - Flag inválida: \\'{flag}\\'. Use flag \\'cfgEnum.LEIA\\' ou \\'cfgEnum.ESCREVA\\'')\n",
        "          return\n",
        "\n",
        "  except FileNotFoundError:\n",
        "    logger.error(f'{nome_modulo} ({nome_funcao}) - Arquivo {config_file} não encontrado.')\n",
        "    return\n",
        "  except Exception as e:\n",
        "    logger.error(f\"{nome_modulo} ({nome_funcao}) - Erro ao ler arquivo de configuração '{config_file}': {e}\")\n",
        "    return\n",
        "\n",
        "def SalvaListainvertidaEmCSV(lista_invertida_dict, config_file='GLI.CFG', separator=';'):\n",
        "  \"\"\"\n",
        "  Lê GLI.CFG e pega o nome do CSV para salvar a lista invertida\n",
        "  \"\"\"\n",
        "  nome_modulo = RetornaNomeModulo_GeradorListaInvertida()\n",
        "  nome_funcao = inspect.currentframe().f_code.co_name # Retorna o nome da função pra passar no logger\n",
        "  filename = LeArquivo_GLI_CFG(cfgEnum.ESCREVA) # Pega o nome do CSV\n",
        "\n",
        "  try:\n",
        "    with open(filename, 'w', newline='') as csvfile:\n",
        "      for key, values in lista_invertida_dict.items():\n",
        "        # Pega a lista dos documentos\n",
        "        values_str = '[' + ','.join(map(str, values)) + ']'\n",
        "        csvfile.write(f\"{key}{separator}{values_str}\\n\")\n",
        "    logger.info(f'{nome_modulo} ({nome_funcao}) - Lista invertida salva em {filename} com sucesso')\n",
        "  except IOError as e:\n",
        "    logger.error(f'{nome_modulo} ({nome_funcao}) - Erro ao salvar a lista invertida em {filename}: {e}')\n",
        "\n",
        "# Função para debug\n",
        "def PrintListaInvertida(lista_invertida):\n",
        "  chaves = [i for i in lista_invertida.keys() ]\n",
        "  chaves.sort()\n",
        "\n",
        "  for i in chaves:\n",
        "    print(\" \",i,\" & \",str(lista_invertida[i]), \" \\\\\\\\\")\n",
        "\n",
        "def PegaDocumentosDosArquivosXML(file_paths):\n",
        "  \"\"\"\n",
        "  Recebe uma lista de caminhos para arquivos XML ou um arquivo único\n",
        "  Pega todos os elementos RECORD e pega o RECORDNUM de cada um deles\n",
        "  Se tiver ABSTRACT, adiciona a tupla (RECORDNUM, ABSTRACT) à lista de records_data\n",
        "  Se não tiver ABSTRACT, mas tiver EXTRACT, adiciona a tupla (RECORDNUM, EXTRACT) à lista de records_data\n",
        "  Se não tiver ABSTRACT nem EXTRACT, desconsidera o documento\n",
        "\n",
        "  Retorna a lista com as tuplas\n",
        "  \"\"\"\n",
        "  nome_modulo = RetornaNomeModulo_GeradorListaInvertida()\n",
        "  nome_funcao = inspect.currentframe().f_code.co_name # Retorna o nome da função pra passar no logger\n",
        "  records_data = []\n",
        "  records_total = 0 # Número total de documentos nos arquivos XML\n",
        "\n",
        "  # Posso passar uma lista ou um arquivo único\n",
        "  # Se for um arquivo único, converte em lista de 1 elemento\n",
        "  if isinstance(file_paths, str):\n",
        "    file_paths = [file_paths]\n",
        "\n",
        "  duracoes_por_arquivo_xml = []\n",
        "  duracoes_por_record = []\n",
        "  for file_path in file_paths:\n",
        "    tempo_arquivo_xml_init = time.time()\n",
        "    duracoes_por_record = []\n",
        "    records_armazenados = 0 # Records que possuem ABSTRACT ou EXTRACT\n",
        "    try:\n",
        "      tree = ET.parse(file_path)\n",
        "      root = tree.getroot()\n",
        "      record_elements = root.findall('.//RECORD') # Pego todos os elementos RECORD do arquivo\n",
        "      records_total += len(record_elements)\n",
        "      file_name = RetornaNomeArquivoDoPath(file_path)\n",
        "\n",
        "      logger.info(f'{nome_modulo} ({nome_funcao}) - {file_name} possui {len(record_elements)} documentos')\n",
        "\n",
        "      if not record_elements:\n",
        "        logger.error(f'Arquivo {file_path} não possui RECORD')\n",
        "        continue\n",
        "\n",
        "      for record in record_elements:\n",
        "        tempo_record_init = time.time()\n",
        "\n",
        "        record_num_element = record.find('RECORDNUM')\n",
        "        abstract_element = record.find('ABSTRACT')\n",
        "        extract_element = record.find('EXTRACT')\n",
        "\n",
        "        record_num = record_num_element.text if record_num_element is not None else None\n",
        "        abstract = abstract_element.text if abstract_element is not None else None\n",
        "        extract = extract_element.text if extract_element is not None else None\n",
        "\n",
        "        if record_num is None: # Se por acaso não tiver RECORDNUM\n",
        "          logger.warning(f'{nome_modulo} ({nome_funcao}) - Erro ao pegar o RECORDNUM de um dos documentos no arquivo {file_name}')\n",
        "        elif abstract is not None: # Tem ABSTRACT\n",
        "          abstract = PreProcessamentoDeTextoRecuperado(abstract)\n",
        "          records_data.append((record_num, abstract))\n",
        "          records_armazenados += 1\n",
        "        elif extract is not None: # Não tem ABSTRACT, mas tem EXTRACT\n",
        "          logger.warning(f'{nome_modulo} ({nome_funcao}) - Documento com RECORDNUM = {record_num} não possui ABSTRACT, vou usar o EXTRACT')\n",
        "          extract = PreProcessamentoDeTextoRecuperado(extract)\n",
        "          records_data.append((record_num, extract))\n",
        "          records_armazenados += 1\n",
        "        else: # Não tem ABSTRACT nem EXTRACT, desconsidero o documento\n",
        "          logger.error(f'{nome_modulo} ({nome_funcao}) - Documento com RECORDNUM = {record_num} ({file_name}) não possui ABSTRACT nem EXTRACT, vou desconsiderar')\n",
        "\n",
        "        tempo_record_final = time.time()\n",
        "        duracao_record = tempo_record_final - tempo_record_init\n",
        "        duracoes_por_record.append(duracao_record)\n",
        "\n",
        "      tempo_medio_records_ms = CalculaTempoMedio(duracoes_por_record) * 1000\n",
        "      logger.info(f'{nome_modulo} ({nome_funcao}) - Tempo médio de processamento de um RECORD do arquivo {file_name} para gerar a lista: {tempo_medio_records_ms:.3f} milissegundos')\n",
        "\n",
        "    except FileNotFoundError:\n",
        "      logger.error(f'{nome_modulo} ({nome_funcao}) - arquivo {file_path} não encontrado')\n",
        "    except ET.ParseError as e:\n",
        "      logger.error(f'{nome_modulo} ({nome_funcao}) - Erro ao fazer parsing no arquivo XML {file_path}: {e}')\n",
        "    except Exception as e:\n",
        "      logger.error(f'{nome_modulo} ({nome_funcao}) - Erro ao processar o arquivo {file_path}: {e}')\n",
        "\n",
        "    tempo_arquivo_xml_final = time.time()\n",
        "    duracao_arquivo_xml = tempo_arquivo_xml_final - tempo_arquivo_xml_init\n",
        "    duracoes_por_arquivo_xml.append(duracao_arquivo_xml)\n",
        "\n",
        "    logger.info(f'{nome_modulo} ({nome_funcao}) - Arquivo {file_name} processado com sucesso. Foram armazenados {records_armazenados}/{len(record_elements)} documentos')\n",
        "\n",
        "  logger.info(f'{nome_modulo} ({nome_funcao}) - Foram processados {len(file_paths)} arquivos XML e armazenados {len(records_data)}/{records_total} documentos')\n",
        "\n",
        "  tempo_medio_arquivo_xml = CalculaTempoMedio(duracoes_por_arquivo_xml)\n",
        "  tempo_medio_arquivo_xml_ms = tempo_medio_arquivo_xml * 1000\n",
        "  #logger.info(f'{nome_modulo} ({nome_funcao}) - Tempo médio de processamento de um arquivo XML para recuperar o texto: {tempo_medio_arquivo_xml:.3f} segundos')\n",
        "  logger.info(f'{nome_modulo} ({nome_funcao}) - Tempo médio de processamento de um arquivo XML para recuperar o texto: {tempo_medio_arquivo_xml_ms:.3f} milissegundos')\n",
        "\n",
        "  return records_data\n",
        "\n",
        "def Modulo_GeradorListaInvertida():\n",
        "  \"\"\"\n",
        "  Executa todos os passos para gerar a lista invertida e salvar em um arquivo CSV\n",
        "\n",
        "  Retorna a lista invertida\n",
        "  \"\"\"\n",
        "  nome_modulo = RetornaNomeModulo_GeradorListaInvertida()\n",
        "  nome_funcao = inspect.currentframe().f_code.co_name # Retorna o nome da função pra passar no logger\n",
        "\n",
        "  logger.info(f'{nome_modulo} ({nome_funcao}) - Iniciando gerador de lista invertida')\n",
        "\n",
        "  arquivos_para_lista_invertida = LeArquivo_GLI_CFG(cfgEnum.LEIA)\n",
        "  documentos = PegaDocumentosDosArquivosXML(arquivos_para_lista_invertida)\n",
        "  lista_invertida = GeraListaInvertida(documentos)\n",
        "  SalvaListainvertidaEmCSV(lista_invertida)\n",
        "\n",
        "  return lista_invertida"
      ]
    },
    {
      "cell_type": "code",
      "execution_count": null,
      "metadata": {
        "colab": {
          "base_uri": "https://localhost:8080/"
        },
        "id": "AoX7BmV56wPX",
        "outputId": "947b4546-26f4-4f72-d8a4-6b470b26cfff"
      },
      "outputs": [],
      "source": [
        "# @title Lendo arquivos e gerando lista invertida\n",
        "\n",
        "# arquivos_para_lista_invertida = LeArquivo_GLI_CFG(cfgEnum.LEIA)\n",
        "# documentos = PegaDocumentosDosArquivosXML(arquivos_para_lista_invertida)\n",
        "# lista_invertida = GeraListaInvertida(documentos)\n",
        "# #SalvaListainvertidaEmCSV(lista_invertida)\n",
        "\n",
        "lista_invertida = Modulo_GeradorListaInvertida()"
      ]
    },
    {
      "cell_type": "code",
      "execution_count": null,
      "metadata": {
        "id": "EjMTNYS0oEAo"
      },
      "outputs": [],
      "source": [
        "# @title (DEBUG) - Imprime a lista invertida\n",
        "#PrintListaInvertida(lista_invertida)"
      ]
    },
    {
      "cell_type": "code",
      "execution_count": null,
      "metadata": {
        "id": "hecgQb1F3xXF"
      },
      "outputs": [],
      "source": [
        "# @title (DELETAR) Testando a lista invertida\n",
        "# # o método split só admite um separador , então removemos as vírgulas\n",
        "# base1 = [\n",
        "#     (\"PN001\", \"Maria comprou um quilo de banana prata e banana ouro no mercado\"),\n",
        "#     (\"PN002\", \"Um quilo de prata vale muito dinheiro\"),\n",
        "#     (\"PN003\", \"Maria tem dinheiro para comprar um quilo de banana mas não de prata\"),\n",
        "#     (\"TF074\", [\"Quem casa quer casa com quem casou e quem não casou não tem casa\"]),\n",
        "#     (\"PN001\", \"WWWWWWWWWWWWWWWW banana quilo\"),\n",
        "#     (\"XS015\", [\"fumaça preta fumaça laranja\", \"suco de laranja\",\n",
        "#                \"suco de goiaba\", \"bolo de laranja\", \"torta de laranja\"])\n",
        "#     ]\n",
        "\n",
        "# #import gerador_lista_invertida\n",
        "# #import importlib\n",
        "# #importlib.reload(gerador_lista_invertida)\n",
        "\n",
        "# l = GeraListaInvertida(base1)\n",
        "# SalvaListainvertidaEmCSV(l)\n",
        "# #PrintListaInvertida(l)"
      ]
    },
    {
      "cell_type": "code",
      "execution_count": null,
      "metadata": {
        "id": "6AZH0x8wMR6c"
      },
      "outputs": [],
      "source": [
        "# @title Lendo os arquivos para gerar a lista"
      ]
    },
    {
      "cell_type": "markdown",
      "metadata": {
        "id": "h3Z3bsHl-aL7"
      },
      "source": [
        "# Indexador"
      ]
    },
    {
      "cell_type": "code",
      "execution_count": null,
      "metadata": {
        "id": "CmwUCfgtQk7G"
      },
      "outputs": [],
      "source": [
        "# @title Funções Indexador\n",
        "\n",
        "#%%writefile indexador.py\n",
        "\n",
        "import logging, time, inspect\n",
        "import xml.etree.ElementTree as ET\n",
        "\n",
        "def RetornaNomeModulo_Indexador():\n",
        "  \"\"\"\n",
        "  Se quiser mudar o nome que aparece no logger, só alterar a string retornada nessa função\n",
        "  \"\"\"\n",
        "  return 'Indexador'\n",
        "\n",
        "def LeArquivo_INDEX_CFG(flag, config_file='INDEX.CFG'):\n",
        "  \"\"\"\n",
        "  Lê o arquivo INDEX.CFG\n",
        "  flag == cfgEnum.LEIA --> Pega o nome do CSV com a lista invertida\n",
        "  flag == cfgEnum.ESCREVA --> Pega o nome do CSV com a matriz TF-IDF\n",
        "  \"\"\"\n",
        "  nome_modulo = RetornaNomeModulo_Indexador()\n",
        "  nome_funcao = inspect.currentframe().f_code.co_name # Retorna o nome da função pra passar no logger\n",
        "  filename = None\n",
        "  file_paths = []\n",
        "\n",
        "  if flag not in [cfgEnum.LEIA, cfgEnum.ESCREVA]:\n",
        "      logger.error(f'{nome_modulo} ({nome_funcao}) - Flag inválida: \\'{flag}\\'. Use flag \\'cfgEnum.LEIA\\' ou \\'cfgEnum.ESCREVA\\' ')\n",
        "      return\n",
        "\n",
        "  try:\n",
        "    with open(config_file, 'r') as f:\n",
        "      for line in f:\n",
        "        line = line.strip()\n",
        "        if (flag == cfgEnum.LEIA) and (line.startswith('LEIA=')):\n",
        "          logger.info(f'{nome_modulo} ({nome_funcao}) - Lendo arquivo {config_file} para pegar o arquivo CSV com a lista invertida')\n",
        "          filename = line.split('=', 1)[1]\n",
        "          logger.info(f'{nome_modulo} ({nome_funcao}) - Arquivo CSV com a lista invertida encontrado com sucesso')\n",
        "        elif (flag == cfgEnum.ESCREVA) and (line.startswith('ESCREVA=')):\n",
        "          logger.info(f'{nome_modulo} ({nome_funcao}) - Lendo arquivo {config_file} para pegar o nome do CSV com o modelo vetorial')\n",
        "          filename = line.split('=', 1)[1]\n",
        "          logger.info(f'{nome_modulo} ({nome_funcao}) - Nome do CSV com o modelo vetorial encontrado com sucesso')\n",
        "\n",
        "      return filename\n",
        "\n",
        "  except FileNotFoundError:\n",
        "    logger.error(f'{nome_modulo} ({nome_funcao}) - Arquivo {config_file} não encontrado.')\n",
        "    return\n",
        "  except Exception as e:\n",
        "    logger.error(f\"{nome_modulo} ({nome_funcao}) - Erro ao ler arquivo de configuração '{config_file}': {e}\")\n",
        "    return\n",
        "\n",
        "import string\n",
        "\n",
        "def ValidaTermoParaIndexar(palavra):\n",
        "  \"\"\"\n",
        "  Valida se uma palavra pode ser indexada\n",
        "  Condições para indexação:\n",
        "    1) Apenas palavras de 2 letras ou mais\n",
        "    2) Apenas palavras com apenas letras\n",
        "    3) Todas as letras convertidas para os caracteres ASCII de A até Z, ou seja, só letras maiúsculas e nenhum outro símbolo\n",
        "  \"\"\"\n",
        "  nome_modulo = RetornaNomeModulo_Indexador()\n",
        "  nome_funcao = inspect.currentframe().f_code.co_name # Retorna o nome da função pra passar no logger\n",
        "\n",
        "  if not isinstance(palavra, str):\n",
        "    logger.error(f'{nome_modulo} ({nome_funcao}) - Termo \\'{palavra}\\' não é uma string')\n",
        "    return False\n",
        "\n",
        "  # 1) Apenas palavras de 2 letras ou mais\n",
        "  if len(palavra) < 2:\n",
        "    #logger.info(f'{nome_modulo} ({nome_funcao}) - Termo \\'{palavra}\\' tem menos de 2 letras')\n",
        "    return False\n",
        "\n",
        "  # 2) Apenas palavras com apenas letras\n",
        "  if not palavra.isalpha():\n",
        "    #logger.info(f'{nome_modulo} ({nome_funcao}) - Termo \\'{palavra}\\' tem caracteres que não são letras, não será indexado')\n",
        "    return False\n",
        "\n",
        "  # 3) Todas as letras convertidas para os caracteres ASCII de A até Z, ou seja, só letras maiúsculas e nenhum outro símbolo\n",
        "  \"\"\"\n",
        "  Já fiz pré-processamento do texto com a função PreProcessamentoDeTextoRecuperado quando gerei a lista invertida, então não preciso fazer isso aqui\n",
        "  A função RemoveAcentuacao já limpa as letras para ficarem apenas de A-Z\n",
        "  E quando a lista invertida é criada já passo as palavras para uppercase\n",
        "  \"\"\"\n",
        "\n",
        "  return True\n",
        "\n",
        "import csv\n",
        "import math\n",
        "from collections import defaultdict\n",
        "\n",
        "def LeListaInvertidaCalculaTFIDF(lista_invertida_csv):\n",
        "  \"\"\"\n",
        "  Lê a lista invertida do arquivo CSV passado e calcula TF-IDF\n",
        "\n",
        "  Retorna um dicionário com a lista invertida e o TF-IDF de cada termo em cada documento\n",
        "  \"\"\"\n",
        "  nome_modulo = RetornaNomeModulo_Indexador()\n",
        "  nome_funcao = inspect.currentframe().f_code.co_name # Retorna o nome da função pra passar no logger\n",
        "  lista_invertida = {}\n",
        "\n",
        "  duracoes_tfidf_termo = []\n",
        "\n",
        "  # Leio a lista invertida do CSV passado\n",
        "  try:\n",
        "    with open(lista_invertida_csv, newline='', encoding='utf-8') as f:\n",
        "        reader = csv.reader(f, delimiter=';')\n",
        "        for row in reader:\n",
        "            termo = row[0]\n",
        "            docs = eval(row[1])  # Pega a lista de documentos e.g. [1,2,2,...]\n",
        "            #docs = [str(doc) for doc in docs]  # Caso doc_id esteja guardado como string invés de int\n",
        "            lista_invertida[termo] = docs\n",
        "    logger.info(f'{nome_modulo} ({nome_funcao}) - Lista invertida lida com sucesso')\n",
        "\n",
        "  except FileNotFoundError:\n",
        "    logger.error(f'{nome_modulo} ({nome_funcao}) - Arquivo {config_file} não encontrado')\n",
        "    return\n",
        "  except Exception as e:\n",
        "    logger.error(f\"{nome_modulo} ({nome_funcao}) - Erro ao ler arquivo de configuração '{config_file}': {e}\")\n",
        "    return\n",
        "\n",
        "  # Vou pegar N (número total de documentos)\n",
        "  todos_docs = set()\n",
        "  for doc_ids in lista_invertida.values():\n",
        "      todos_docs.update(set(doc_ids))\n",
        "  N = len(todos_docs)\n",
        "\n",
        "  # Calculando TF-IDF\n",
        "  logger.info(f'{nome_modulo} ({nome_funcao}) - Vou calcular TF-IDF')\n",
        "\n",
        "  matriz_tfidf = defaultdict(dict)  # matriz_tfidf[termo][doc_id] = tfidf\n",
        "\n",
        "  max_tf = 0 # Para normalizar o tf\n",
        "  for termo, doc_ids in lista_invertida.items():\n",
        "    if not ValidaTermoParaIndexar(termo): # Se não atende as 3 condições, não indexa\n",
        "      continue\n",
        "    tempo_li_init = time.time()\n",
        "\n",
        "    # set(doc_ids) vai pegar os ids únicos\n",
        "    df = len(set(doc_ids)) # df = document frequency, número de documentos em que um termo aparece\n",
        "    idf = math.log(N / df) if df > 0 else 0\n",
        "    tf_por_doc = defaultdict(int)\n",
        "\n",
        "    for doc_id in doc_ids:\n",
        "      tf_por_doc[doc_id] += 1\n",
        "      if tf_por_doc[doc_id] > max_tf:\n",
        "        max_tf = tf_por_doc[doc_id]\n",
        "        # Debug\n",
        "        #print(f'DEBUG - Achei um novo tf máximo: {max_tf}')\n",
        "\n",
        "    for doc_id, tf in tf_por_doc.items():\n",
        "      tempo_termo_docid_init = time.time()\n",
        "\n",
        "      # ATENÇÂO\n",
        "      # Quando normaliza o tf, fica entre 0 e 1, então o log vai dar negativo\n",
        "      # Se eu usar math.log(tf_normalizado), vou ter TF-IDF negativo\n",
        "      # Então não uso log, uso apenas o tf normalizado\n",
        "      tf_normalizado = tf / max_tf\n",
        "      tf_valor = 1 + tf_normalizado #math.log(tf_normalizado)\n",
        "\n",
        "      #tf_valor = 1 + math.log(tf) # Descomente essa linha para não usar tf normalizado\n",
        "\n",
        "      matriz_tfidf[termo][doc_id] = tf_valor * idf\n",
        "      tempo_termo_docid_final = time.time()\n",
        "      duracao_termo_docid = tempo_termo_docid_final - tempo_termo_docid_init\n",
        "      duracoes_tfidf_termo.append(duracao_termo_docid)\n",
        "  logger.info(f'{nome_modulo} ({nome_funcao}) - TF-IDF calculado com sucesso')\n",
        "\n",
        "  tempo_medio_tfidf = CalculaTempoMedio(duracoes_tfidf_termo)\n",
        "  tempo_medio_tfidf_ms = tempo_medio_tfidf * 1000\n",
        "  logger.info(f'{nome_modulo} ({nome_funcao}) - Tempo médio de processamento de um termo para calcular o TF-IDF: {tempo_medio_tfidf_ms:.5f} milissegundos')\n",
        "\n",
        "  return matriz_tfidf\n",
        "\n",
        "def RetornaTFIDFDeTermoDocumento(matriz_tfidf, termo, doc_id):\n",
        "  \"\"\"\n",
        "  Retorna o TF-IDF de um termo em um documento\n",
        "  \"\"\"\n",
        "  return matriz_tfidf[termo][doc_id]\n",
        "\n",
        "def SalvaMatrizTFIDFEmCSV(matriz_tfidf, config_file='INDEX.CFG', separator=';'):\n",
        "  \"\"\"\n",
        "  Salva a matriz_tfidf em um CSV com a seguinte estrutura:\n",
        "  TERMO;doc_id1;doc_id2;...\n",
        "  termo1;valor1;valor2;...\n",
        "  \"\"\"\n",
        "  nome_modulo = RetornaNomeModulo_Indexador()\n",
        "  nome_funcao = inspect.currentframe().f_code.co_name\n",
        "  file_name = LeArquivo_INDEX_CFG(cfgEnum.ESCREVA)\n",
        "\n",
        "  logger.info(f'{nome_modulo} ({nome_funcao}) - Salvando a matriz TF-IDF em {file_name}')\n",
        "  try:\n",
        "    # Pego todos os doc_ids em ordem crescente pra gerar o cabeçalho\n",
        "    todos_docs = sorted({doc_id for tf_dict in matriz_tfidf.values() for doc_id in tf_dict})\n",
        "\n",
        "    with open(file_name, 'w', newline='', encoding='utf-8') as f:\n",
        "      tempo_init = time.time()\n",
        "      writer = csv.writer(f, delimiter=separator)\n",
        "\n",
        "      header = ['TERMO'] + todos_docs\n",
        "      writer.writerow(header)\n",
        "\n",
        "      # Linhas da matriz\n",
        "      for termo, tf_dict in sorted(matriz_tfidf.items()):\n",
        "        linha = [termo]\n",
        "        for doc_id in todos_docs:\n",
        "          valor = tf_dict.get(doc_id, 0.0)\n",
        "          linha.append(round(valor, 6))  # limitar casas decimais se desejar\n",
        "        writer.writerow(linha)\n",
        "\n",
        "    tempo_final = time.time()\n",
        "    duracao = tempo_final - tempo_init\n",
        "    duracao_ms = duracao * 1000\n",
        "    logger.info(f'{nome_modulo} ({nome_funcao}) - Matriz TF-IDF salva em {file_name} com sucesso em {duracao:.3f} segundos')\n",
        "\n",
        "  except Exception as e:\n",
        "    logger.error(f'{nome_modulo} ({nome_funcao}) - Erro ao salvar matriz_tfidf em {file_name}: {e}')\n",
        "\n",
        "def PrintTFIDFTermo(matriz_tfidf, termo):\n",
        "  \"\"\"\n",
        "  Lê a lista invertida do arquivo CSV passado e calcula TF-IDF\n",
        "\n",
        "  Retorna um dicionário com a lista invertida e o TF-IDF de cada termo em cada documento\n",
        "  \"\"\"\n",
        "  nome_modulo = RetornaNomeModulo_Indexador()\n",
        "  nome_funcao = inspect.currentframe().f_code.co_name # Retorna o nome da função pra passar no logger\n",
        "\n",
        "  print(f'O termo {termo} aparece em {len(matriz_tfidf[termo])} documentos')\n",
        "  for doc_id in matriz_tfidf[termo]:\n",
        "    tfidf = RetornaTFIDFDeTermoDocumento(matriz_tfidf, termo, doc_id)\n",
        "    print(f'{doc_id:4} | TF-IDF = {tfidf}')\n",
        "\n",
        "def AlteraTFIDFDict(matriz_tfidf, termo, doc_id, novo_valor):\n",
        "  \"\"\"\n",
        "  Altera o td-idf de um termo em um documento manualmente\n",
        "  \"\"\"\n",
        "  nome_modulo = RetornaNomeModulo_Indexador()\n",
        "  nome_funcao = inspect.currentframe().f_code.co_name # Retorna o nome da função pra passar no logger\n",
        "\n",
        "  logger.info(f'{nome_modulo} ({nome_funcao}) - Alterando manualmente o TF-IDF de \\'{termo}\\' no documento {doc_id} para {novo_valor}')\n",
        "  if termo not in matriz_tfidf:\n",
        "    logger.error(f'{nome_modulo} ({nome_funcao}) - Termo \\'{termo}\\' não encontrado no dicionário')\n",
        "    return\n",
        "  if doc_id not in matriz_tfidf[termo]:\n",
        "    logger.error(f'{nome_modulo} ({nome_funcao}) - Documento {doc_id} não encontrado no dicionário para o termo \\'{termo}\\'')\n",
        "    return\n",
        "  logger.info(f'{nome_modulo} ({nome_funcao}) - TF-IDF alterado pelo usuário com sucesso')\n",
        "  matriz_tfidf[termo][doc_id] = novo_valor\n",
        "\n",
        "def Modulo_Indexador():\n",
        "  \"\"\"\n",
        "  Executa todos os passos para indexar os documentos\n",
        "  \"\"\"\n",
        "  nome_modulo = RetornaNomeModulo_Indexador()\n",
        "  nome_funcao = inspect.currentframe().f_code.co_name # Retorna o nome da função pra passar no logger\n",
        "\n",
        "  lista_invertida_csv = LeArquivo_INDEX_CFG(cfgEnum.LEIA)\n",
        "  matriz_tfidf = LeListaInvertidaCalculaTFIDF(lista_invertida_csv)\n",
        "  SalvaMatrizTFIDFEmCSV(matriz_tfidf)\n",
        "\n",
        "  return matriz_tfidf"
      ]
    },
    {
      "cell_type": "code",
      "execution_count": null,
      "metadata": {
        "colab": {
          "base_uri": "https://localhost:8080/"
        },
        "id": "f05KNKQ3E_Cv",
        "outputId": "70a64fdc-cd53-4f60-a7eb-9918b7b23940"
      },
      "outputs": [],
      "source": [
        "matriz_tfidf = Modulo_Indexador()"
      ]
    },
    {
      "cell_type": "markdown",
      "metadata": {
        "id": "YAYgVUaJoYmF"
      },
      "source": [
        "## Verificando alguns valores"
      ]
    },
    {
      "cell_type": "code",
      "execution_count": null,
      "metadata": {
        "colab": {
          "base_uri": "https://localhost:8080/"
        },
        "id": "ieY_2tYoTrCY",
        "outputId": "cdf26387-f1e9-4333-a29f-2f1fd1893069"
      },
      "outputs": [],
      "source": [
        "RetornaTFIDFDeTermoDocumento(matriz_tfidf, 'THE', 1)"
      ]
    },
    {
      "cell_type": "code",
      "execution_count": null,
      "metadata": {
        "colab": {
          "base_uri": "https://localhost:8080/"
        },
        "id": "AdmDTmsMWsX5",
        "outputId": "df92a47d-df3a-430b-dcb9-e2e8988cf6de"
      },
      "outputs": [],
      "source": [
        "# @title TF-IDF de uma palavra que não está nos documentos\n",
        "PrintTFIDFTermo(matriz_tfidf, 'ICARUS')"
      ]
    },
    {
      "cell_type": "code",
      "execution_count": null,
      "metadata": {
        "colab": {
          "base_uri": "https://localhost:8080/"
        },
        "id": "R60pN5fwWiTm",
        "outputId": "08ec92c4-536e-4a03-b29a-d6bd5078c212"
      },
      "outputs": [],
      "source": [
        "# @title TF-IDF da palavra 'DEATH'\n",
        "\n",
        "PrintTFIDFTermo(matriz_tfidf, 'DEATH')"
      ]
    },
    {
      "cell_type": "code",
      "execution_count": null,
      "metadata": {
        "colab": {
          "base_uri": "https://localhost:8080/"
        },
        "id": "jIeSEZGxWr8Z",
        "outputId": "430e29c7-f2c6-442f-9b92-0959196caac9"
      },
      "outputs": [],
      "source": [
        "# @title TF-IDF da palavra 'THE'\n",
        "\n",
        "PrintTFIDFTermo(matriz_tfidf, 'THE')"
      ]
    },
    {
      "cell_type": "markdown",
      "metadata": {
        "id": "tmIXamW5-cRo"
      },
      "source": [
        "# Buscador"
      ]
    },
    {
      "cell_type": "code",
      "execution_count": null,
      "metadata": {
        "id": "U-BM6ccWQknY"
      },
      "outputs": [],
      "source": [
        "# @title Funções buscador\n",
        "\n",
        "#%%writefile buscador.py\n",
        "import logging, time, inspect\n",
        "import xml.etree.ElementTree as ET\n",
        "\n",
        "def RetornaNomeModulo_Buscador():\n",
        "  \"\"\"\n",
        "  Se quiser mudar o nome que aparece no logger, só alterar a string retornada nessa função\n",
        "  \"\"\"\n",
        "  return 'Buscador'\n",
        "\n",
        "def LeArquivo_BUSCA_CFG(flag, config_file='BUSCA.CFG'):\n",
        "  \"\"\"\n",
        "  Lê o arquivo BUSCA.CFG\n",
        "  flag == cfgEnum.MODELO --> Pega o nome do CSV com a matriz TF-IDF\n",
        "  flag == cfgEnum.CONSULTAS --> Pega o nome do CSV com as consultas\n",
        "  flag == cfgEnum.RESULTADOS --> Pega o nome do CSV com os resultados\n",
        "  \"\"\"\n",
        "  nome_modulo = RetornaNomeModulo_Indexador()\n",
        "  nome_funcao = inspect.currentframe().f_code.co_name # Retorna o nome da função pra passar no logger\n",
        "  filename = None\n",
        "  file_paths = []\n",
        "\n",
        "  if flag not in [cfgEnum.MODELO, cfgEnum.CONSULTAS, cfgEnum.RESULTADOS]:\n",
        "      logger.error(f'{nome_modulo} ({nome_funcao}) - Flag inválida: \\'{flag}\\'. Use flag \\'cfgEnum.MODELO\\' ou \\'cfgEnum.CONSULTAS\\' ou \\'cfgEnum.RESULTADOS\\'')\n",
        "      return\n",
        "\n",
        "  try:\n",
        "    with open(config_file, 'r') as f:\n",
        "      for line in f:\n",
        "        line = line.strip()\n",
        "        if (flag == cfgEnum.MODELO) and (line.startswith('MODELO=')):\n",
        "          logger.info(f'{nome_modulo} ({nome_funcao}) - Lendo arquivo {config_file} para pegar o arquivo CSV com o modelo vetorial')\n",
        "          filename = line.split('=', 1)[1]\n",
        "          logger.info(f'{nome_modulo} ({nome_funcao}) - Arquivo CSV com o modelo vetorial encontrado com sucesso')\n",
        "        elif (flag == cfgEnum.CONSULTAS) and (line.startswith('CONSULTAS=')):\n",
        "          logger.info(f'{nome_modulo} ({nome_funcao}) - Lendo arquivo {config_file} para pegar o nome do CSV com as consultas')\n",
        "          filename = line.split('=', 1)[1]\n",
        "          logger.info(f'{nome_modulo} ({nome_funcao}) - Nome do CSV com as consultas encontrado com sucesso')\n",
        "        elif (flag == cfgEnum.ESPERADOS) and (line.startswith('RESULTADOS=')):\n",
        "          logger.info(f'{nome_modulo} ({nome_funcao}) - Lendo arquivo {config_file} para pegar o nome do CSV com os resultados')\n",
        "          filename = line.split('=', 1)[1]\n",
        "          logger.info(f'{nome_modulo} ({nome_funcao}) - Nome do CSV com os resultados encontrado com sucesso')\n",
        "\n",
        "      return filename\n",
        "\n",
        "  except FileNotFoundError:\n",
        "    logger.error(f'{nome_modulo} ({nome_funcao}) - Arquivo {config_file} não encontrado.')\n",
        "    return\n",
        "  except Exception as e:\n",
        "    logger.error(f\"{nome_modulo} ({nome_funcao}) - Erro ao ler arquivo de configuração '{config_file}': {e}\")\n",
        "    return\n",
        "\n",
        "  pass\n",
        "\n",
        "def Modulo_Buscador():\n",
        "  \"\"\"\n",
        "  Executa todos os passos para buscar os documentos\n",
        "  \"\"\"\n",
        "  nome_modulo = RetornaNomeModulo_Buscador()\n",
        "  nome_funcao = inspect.currentframe().f_code.co"
      ]
    },
    {
      "cell_type": "markdown",
      "metadata": {
        "id": "8pkDq1Laigto"
      },
      "source": [
        "# Verificando os arquivos CSV gerados usando dataframes"
      ]
    },
    {
      "cell_type": "code",
      "execution_count": null,
      "metadata": {
        "colab": {
          "base_uri": "https://localhost:8080/",
          "height": 459
        },
        "id": "YFV8lAms5NjO",
        "outputId": "516c2d21-1964-4920-c4ce-02691485903d"
      },
      "outputs": [],
      "source": [
        "# @title Dataframe das consultas\n",
        "\n",
        "consultas_csv = LeArquivo_PC_CFG(cfgEnum.CONSULTAS)\n",
        "consultas_df = pd.read_csv(consultas_csv, sep=';', names=['QueryNumber','QueryText'])\n",
        "display(consultas_df)"
      ]
    },
    {
      "cell_type": "code",
      "execution_count": null,
      "metadata": {
        "colab": {
          "base_uri": "https://localhost:8080/",
          "height": 459
        },
        "id": "NxwLzD4kb4PS",
        "outputId": "21a00bf1-7322-41d3-83c5-b5dc374ffd02"
      },
      "outputs": [],
      "source": [
        "# @title Dataframe dos documentos esperados\n",
        "\n",
        "esperados_csv_path = LeArquivo_PC_CFG(cfgEnum.ESPERADOS)\n",
        "esperados_df = pd.read_csv(esperados_csv_path, sep=';')#, names=['QueryNumber','DocNumber','DocVotes'])\n",
        "display(esperados_df)"
      ]
    },
    {
      "cell_type": "code",
      "execution_count": null,
      "metadata": {
        "colab": {
          "base_uri": "https://localhost:8080/",
          "height": 459
        },
        "id": "mNDInAOyij8H",
        "outputId": "823fa40e-c9ea-40e1-846a-69d6bad43189"
      },
      "outputs": [],
      "source": [
        "# @title Dataframe da lista invertida\n",
        "\n",
        "li_csv_path = LeArquivo_GLI_CFG(cfgEnum.ESCREVA)\n",
        "li_df = pd.read_csv(li_csv_path, sep=';', names=['PALAVRA','DOCUMENTOS'])\n",
        "display(li_df)"
      ]
    },
    {
      "cell_type": "code",
      "execution_count": null,
      "metadata": {
        "colab": {
          "base_uri": "https://localhost:8080/",
          "height": 459
        },
        "id": "Cf7_Lt9Nj45U",
        "outputId": "dc03fa79-b5e5-486f-9084-7d0e93e44585"
      },
      "outputs": [],
      "source": [
        "# @title Dataframe da matriz TF-IDF\n",
        "\n",
        "tfidf_csv_path = LeArquivo_INDEX_CFG(cfgEnum.ESCREVA)\n",
        "tfidf_df = pd.read_csv(tfidf_csv_path, sep=';')#, names=['PALAVRA','DOCUMENTOS'])\n",
        "display(tfidf_df)"
      ]
    }
  ],
  "metadata": {
    "colab": {
      "provenance": [],
      "toc_visible": true
    },
    "kernelspec": {
      "display_name": "Python 3",
      "name": "python3"
    },
    "language_info": {
      "name": "python",
      "version": "3.10.5"
    }
  },
  "nbformat": 4,
  "nbformat_minor": 0
}
